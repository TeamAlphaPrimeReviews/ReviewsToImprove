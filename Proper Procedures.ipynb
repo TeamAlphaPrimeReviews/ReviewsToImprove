{
 "cells": [
  {
   "cell_type": "code",
   "execution_count": 50,
   "metadata": {},
   "outputs": [],
   "source": [
    "import csv"
   ]
  },
  {
   "cell_type": "code",
   "execution_count": 51,
   "metadata": {},
   "outputs": [],
   "source": [
    "import nltk"
   ]
  },
  {
   "cell_type": "code",
   "execution_count": 52,
   "metadata": {},
   "outputs": [],
   "source": [
    "import numpy as np"
   ]
  },
  {
   "cell_type": "code",
   "execution_count": 53,
   "metadata": {},
   "outputs": [],
   "source": [
    "import pandas as pd"
   ]
  },
  {
   "cell_type": "code",
   "execution_count": 54,
   "metadata": {},
   "outputs": [],
   "source": [
    "import sklearn.feature_extraction.text"
   ]
  },
  {
   "cell_type": "code",
   "execution_count": 55,
   "metadata": {},
   "outputs": [],
   "source": [
    "from sklearn.feature_extraction.text import CountVectorizer"
   ]
  },
  {
   "cell_type": "code",
   "execution_count": 56,
   "metadata": {},
   "outputs": [],
   "source": [
    "from sklearn.feature_extraction.text import TfidfTransformer"
   ]
  },
  {
   "cell_type": "code",
   "execution_count": 57,
   "metadata": {},
   "outputs": [],
   "source": [
    "from sklearn.feature_extraction.text import TfidfVectorizer"
   ]
  },
  {
   "cell_type": "code",
   "execution_count": 58,
   "metadata": {},
   "outputs": [],
   "source": [
    "from sklearn.naive_bayes import MultinomialNB"
   ]
  },
  {
   "cell_type": "code",
   "execution_count": 59,
   "metadata": {},
   "outputs": [],
   "source": [
    "from sklearn import metrics"
   ]
  },
  {
   "cell_type": "code",
   "execution_count": 60,
   "metadata": {},
   "outputs": [],
   "source": [
    "import scipy"
   ]
  },
  {
   "cell_type": "code",
   "execution_count": 61,
   "metadata": {},
   "outputs": [],
   "source": [
    "import string"
   ]
  },
  {
   "cell_type": "code",
   "execution_count": 62,
   "metadata": {},
   "outputs": [],
   "source": [
    "from nltk.tokenize import word_tokenize"
   ]
  },
  {
   "cell_type": "code",
   "execution_count": 63,
   "metadata": {},
   "outputs": [],
   "source": [
    "from nltk.corpus import stopwords"
   ]
  },
  {
   "cell_type": "code",
   "execution_count": 64,
   "metadata": {},
   "outputs": [],
   "source": [
    "#Opening the file"
   ]
  },
  {
   "cell_type": "code",
   "execution_count": 200,
   "metadata": {},
   "outputs": [],
   "source": [
    "the_data = pd.read_csv(\"all_reviews.csv\")"
   ]
  },
  {
   "cell_type": "code",
   "execution_count": null,
   "metadata": {},
   "outputs": [],
   "source": []
  },
  {
   "cell_type": "code",
   "execution_count": 201,
   "metadata": {},
   "outputs": [],
   "source": [
    "# Randomizing the rows in the file"
   ]
  },
  {
   "cell_type": "code",
   "execution_count": 244,
   "metadata": {},
   "outputs": [],
   "source": [
    "the_data = the_data.reindex(np.random.permutation(the_data.index))"
   ]
  },
  {
   "cell_type": "code",
   "execution_count": 245,
   "metadata": {},
   "outputs": [
    {
     "name": "stdout",
     "output_type": "stream",
     "text": [
      "Good: 96\n",
      "Bad: 85\n"
     ]
    }
   ],
   "source": [
    "# Total instances in the csv data, pre-sorting into train and test.\n",
    "good = 0\n",
    "bad = 0\n",
    "for item in the_data['good/bad']:\n",
    "    if item == 'bad':\n",
    "        bad += 1\n",
    "    if item == 'good':\n",
    "        good += 1\n",
    "print('Good: ' + str(good))\n",
    "print('Bad: ' + str(bad))\n",
    "        "
   ]
  },
  {
   "cell_type": "code",
   "execution_count": 246,
   "metadata": {},
   "outputs": [],
   "source": [
    "data = []\n",
    "for index, row in the_data.iterrows():\n",
    "    sentence = \"\"\n",
    "    # extract the review from the original\n",
    "    review = str(row['review'])\n",
    "    # split into words\n",
    "    tokens = word_tokenize(review)\n",
    "    # convert to lowercase\n",
    "    tokens = [w.lower() for w in tokens]\n",
    "    # remove punctuation and abberations\n",
    "    table = str.maketrans('', '', string.punctuation)\n",
    "    stripped = [w.translate(table) for w in tokens]\n",
    "    words = [word for word in stripped if word.isalpha()]\n",
    "    # filter out stop words & join in a sentence\n",
    "    stop_words = set(stopwords.words('english'))\n",
    "    words = [w for w in words if w not in stop_words]\n",
    "    sentence = ' '.join(words)\n",
    "    data.append({'stars': (row['stars']) / 10,\n",
    "                      'review': sentence,\n",
    "                      'good/bad': row['good/bad']})\n",
    "new_frame = pd.DataFrame(data)"
   ]
  },
  {
   "cell_type": "code",
   "execution_count": 247,
   "metadata": {},
   "outputs": [],
   "source": [
    "# Create a new dataframe with modified star value & a cleaned up review"
   ]
  },
  {
   "cell_type": "code",
   "execution_count": 248,
   "metadata": {},
   "outputs": [],
   "source": [
    "#Extracting features from text, define target y and data x"
   ]
  },
  {
   "cell_type": "code",
   "execution_count": 249,
   "metadata": {},
   "outputs": [],
   "source": [
    "X = new_frame['review']\n",
    "Y = new_frame['good/bad']"
   ]
  },
  {
   "cell_type": "code",
   "execution_count": 250,
   "metadata": {},
   "outputs": [],
   "source": [
    "#Partitioning the data into test and training set\n",
    "split = 0.75\n",
    "split_size = int(len(new_frame)*split)\n",
    "\n",
    "X_train = X[:split_size]\n",
    "X_test = X[split_size:]\n",
    "\n",
    "Y_train = Y[:split_size]\n",
    "Y_test = Y[split_size:]"
   ]
  },
  {
   "cell_type": "code",
   "execution_count": null,
   "metadata": {},
   "outputs": [],
   "source": []
  },
  {
   "cell_type": "code",
   "execution_count": 251,
   "metadata": {},
   "outputs": [],
   "source": [
    "vect = CountVectorizer()"
   ]
  },
  {
   "cell_type": "code",
   "execution_count": 252,
   "metadata": {},
   "outputs": [],
   "source": [
    "X_train_dtm = vect.fit_transform(X_train)"
   ]
  },
  {
   "cell_type": "code",
   "execution_count": 253,
   "metadata": {},
   "outputs": [],
   "source": [
    "tfidf_transformer = TfidfTransformer()"
   ]
  },
  {
   "cell_type": "code",
   "execution_count": 254,
   "metadata": {},
   "outputs": [],
   "source": [
    "X_train_tfidf = tfidf_transformer.fit_transform(X_train_dtm)"
   ]
  },
  {
   "cell_type": "code",
   "execution_count": 255,
   "metadata": {},
   "outputs": [],
   "source": [
    "# -------------------------------------------------"
   ]
  },
  {
   "cell_type": "code",
   "execution_count": 256,
   "metadata": {},
   "outputs": [],
   "source": [
    "X_test_dtm = vect.transform(X_test)"
   ]
  },
  {
   "cell_type": "code",
   "execution_count": 257,
   "metadata": {},
   "outputs": [],
   "source": [
    "X_test_tfidf = tfidf_transformer.transform(X_test_dtm)"
   ]
  },
  {
   "cell_type": "code",
   "execution_count": null,
   "metadata": {},
   "outputs": [],
   "source": []
  },
  {
   "cell_type": "code",
   "execution_count": 258,
   "metadata": {},
   "outputs": [
    {
     "name": "stdout",
     "output_type": "stream",
     "text": [
      "Good reviews in test data: 26\n",
      "Bad reviews in test data: 20\n"
     ]
    }
   ],
   "source": [
    "#Test data numbers\n",
    "test_good = 0\n",
    "test_bad = 0 \n",
    "\n",
    "for rating in Y_test:\n",
    "    if rating == 'good':\n",
    "        test_good += 1\n",
    "    if rating == 'bad':\n",
    "        test_bad += 1\n",
    "print('Good reviews in test data: ' + str(test_good))\n",
    "print('Bad reviews in test data: ' + str(test_bad))"
   ]
  },
  {
   "cell_type": "code",
   "execution_count": 259,
   "metadata": {},
   "outputs": [],
   "source": [
    "# Training the model"
   ]
  },
  {
   "cell_type": "code",
   "execution_count": 260,
   "metadata": {},
   "outputs": [
    {
     "data": {
      "text/plain": [
       "MultinomialNB(alpha=1.0, class_prior=None, fit_prior=True)"
      ]
     },
     "execution_count": 260,
     "metadata": {},
     "output_type": "execute_result"
    }
   ],
   "source": [
    "clf = MultinomialNB()\n",
    "clf.fit(X_train_tfidf, Y_train)"
   ]
  },
  {
   "cell_type": "code",
   "execution_count": 261,
   "metadata": {},
   "outputs": [],
   "source": [
    "# Evaluating the results"
   ]
  },
  {
   "cell_type": "code",
   "execution_count": 262,
   "metadata": {},
   "outputs": [
    {
     "data": {
      "text/plain": [
       "1.0"
      ]
     },
     "execution_count": 262,
     "metadata": {},
     "output_type": "execute_result"
    }
   ],
   "source": [
    "# Accuracy on training set\n",
    "clf.score(X_train_tfidf, Y_train)"
   ]
  },
  {
   "cell_type": "code",
   "execution_count": 263,
   "metadata": {},
   "outputs": [
    {
     "name": "stdout",
     "output_type": "stream",
     "text": [
      "0.695652173913\n"
     ]
    }
   ],
   "source": [
    "# Accuracy on testing set\n",
    "print(clf.score(X_test_tfidf, Y_test))"
   ]
  },
  {
   "cell_type": "code",
   "execution_count": 264,
   "metadata": {},
   "outputs": [
    {
     "name": "stdout",
     "output_type": "stream",
     "text": [
      "             precision    recall  f1-score   support\n",
      "\n",
      "        bad       0.80      0.40      0.53        20\n",
      "       good       0.67      0.92      0.77        26\n",
      "\n",
      "avg / total       0.72      0.70      0.67        46\n",
      "\n"
     ]
    }
   ],
   "source": [
    "Y_pred = clf.predict(X_test_tfidf)\n",
    "print(metrics.classification_report(Y_test, Y_pred))"
   ]
  },
  {
   "cell_type": "code",
   "execution_count": 265,
   "metadata": {},
   "outputs": [
    {
     "data": {
      "text/plain": [
       "143    seen trailers expectations movie trying best g...\n",
       "147    loved fantastic storytelling visuals spectacle...\n",
       "153    star wars fan movie go fun leave casual star w...\n",
       "154    lot liked movie things let go first luke time ...\n",
       "157    rian johnson takes star wars universe injects ...\n",
       "160    fanboy boy though enjoyed original trilogy qui...\n",
       "163    genuinely bad space gravity would nt arc energ...\n",
       "164    extended advert toys especially mogwai looking...\n",
       "165                                 love much best movie\n",
       "169    let preface review saying loved film bits leav...\n",
       "173    loved movie filled enjoyment every second shak...\n",
       "178                                  really enjoyed film\n",
       "Name: review, dtype: object"
      ]
     },
     "execution_count": 265,
     "metadata": {},
     "output_type": "execute_result"
    }
   ],
   "source": [
    "# False negative\n",
    "X_test[Y_pred > Y_test]"
   ]
  },
  {
   "cell_type": "code",
   "execution_count": 266,
   "metadata": {},
   "outputs": [],
   "source": [
    "#Messing around to see what we can pull."
   ]
  },
  {
   "cell_type": "code",
   "execution_count": null,
   "metadata": {},
   "outputs": [],
   "source": []
  },
  {
   "cell_type": "code",
   "execution_count": 267,
   "metadata": {},
   "outputs": [],
   "source": [
    "# Testing it on new data"
   ]
  },
  {
   "cell_type": "code",
   "execution_count": 290,
   "metadata": {},
   "outputs": [],
   "source": [
    "test = ['SJW bullshit']"
   ]
  },
  {
   "cell_type": "code",
   "execution_count": 291,
   "metadata": {},
   "outputs": [],
   "source": [
    "t_test = vect.transform(test)"
   ]
  },
  {
   "cell_type": "code",
   "execution_count": 292,
   "metadata": {},
   "outputs": [],
   "source": [
    "y_pred = clf.predict(t_test)"
   ]
  },
  {
   "cell_type": "code",
   "execution_count": 293,
   "metadata": {},
   "outputs": [
    {
     "name": "stdout",
     "output_type": "stream",
     "text": [
      "['bad']\n"
     ]
    }
   ],
   "source": [
    "print(y_pred)"
   ]
  },
  {
   "cell_type": "code",
   "execution_count": 294,
   "metadata": {},
   "outputs": [],
   "source": [
    "# Predicting quality of unsorted data"
   ]
  },
  {
   "cell_type": "code",
   "execution_count": 295,
   "metadata": {},
   "outputs": [],
   "source": [
    "#Importing\n",
    "feature_data = pd.read_csv(\"test2.csv\")"
   ]
  },
  {
   "cell_type": "code",
   "execution_count": 296,
   "metadata": {},
   "outputs": [
    {
     "name": "stdout",
     "output_type": "stream",
     "text": [
      "Positive Reviews: 279\n",
      "Negative Reviews: 411\n"
     ]
    }
   ],
   "source": [
    "# This is to test the data is importing correctly\n",
    "feature_good = 0\n",
    "feature_bad = 0\n",
    "for item in feature_data['stars']:\n",
    "    if item >= 25:\n",
    "        feature_good += 1\n",
    "    else:\n",
    "        feature_bad += 1\n",
    "print('Positive Reviews: ' + str(feature_good))\n",
    "print('Negative Reviews: ' + str(feature_bad))"
   ]
  },
  {
   "cell_type": "code",
   "execution_count": 297,
   "metadata": {},
   "outputs": [],
   "source": [
    "# Cleaning\n",
    "feature_list = []\n",
    "for index, row in feature_data.iterrows():\n",
    "    sentence = \"\"\n",
    "    # extract the review from the original\n",
    "    review = row['review']\n",
    "    # split into words\n",
    "    tokens = word_tokenize(review)\n",
    "    # convert to lowercase\n",
    "    tokens = [w.lower() for w in tokens]\n",
    "    # remove punctuation and abberations\n",
    "    table = str.maketrans('', '', string.punctuation)\n",
    "    stripped = [w.translate(table) for w in tokens]\n",
    "    words = [word for word in stripped if word.isalpha()]\n",
    "    # filter out stop words & join in a sentence\n",
    "    stop_words = set(stopwords.words('english'))\n",
    "    words = [w for w in words if w not in stop_words]\n",
    "    sentence = ' '.join(words)\n",
    "    feature_list.append({'stars': (row['stars']) / 10,\n",
    "                      'review': sentence,\n",
    "                      'good/bad': row['good/bad']})\n",
    "feature_frame = pd.DataFrame(feature_list)"
   ]
  },
  {
   "cell_type": "code",
   "execution_count": null,
   "metadata": {},
   "outputs": [],
   "source": []
  },
  {
   "cell_type": "code",
   "execution_count": 298,
   "metadata": {},
   "outputs": [],
   "source": [
    "feature_counts = vect.transform(feature_frame['review'])"
   ]
  },
  {
   "cell_type": "code",
   "execution_count": 299,
   "metadata": {},
   "outputs": [
    {
     "data": {
      "text/plain": [
       "<690x1864 sparse matrix of type '<class 'numpy.int64'>'\n",
       "\twith 20899 stored elements in Compressed Sparse Row format>"
      ]
     },
     "execution_count": 299,
     "metadata": {},
     "output_type": "execute_result"
    }
   ],
   "source": [
    "feature_counts"
   ]
  },
  {
   "cell_type": "code",
   "execution_count": 302,
   "metadata": {},
   "outputs": [],
   "source": [
    "feature_test = vect.transform(feature_frame)"
   ]
  },
  {
   "cell_type": "code",
   "execution_count": 304,
   "metadata": {
    "scrolled": true
   },
   "outputs": [],
   "source": [
    "feature_counts = vect.transform(feature_frame['review'])"
   ]
  },
  {
   "cell_type": "code",
   "execution_count": null,
   "metadata": {},
   "outputs": [],
   "source": []
  },
  {
   "cell_type": "code",
   "execution_count": 305,
   "metadata": {},
   "outputs": [],
   "source": [
    "new_y_pred = clf.predict(feature_counts)"
   ]
  },
  {
   "cell_type": "code",
   "execution_count": 306,
   "metadata": {},
   "outputs": [],
   "source": [
    "feature_good = 0\n",
    "feature_bad = 0\n",
    "for i in new_y_pred:\n",
    "    if i == 'good':\n",
    "        feature_good += 1\n",
    "    if i == 'bad':\n",
    "        feature_bad += 1"
   ]
  },
  {
   "cell_type": "code",
   "execution_count": 307,
   "metadata": {},
   "outputs": [
    {
     "name": "stdout",
     "output_type": "stream",
     "text": [
      "Bad: 129 Good: 561\n"
     ]
    }
   ],
   "source": [
    "print(\"Bad: \" + str(feature_bad) + \" Good: \" + str(feature_good))"
   ]
  },
  {
   "cell_type": "code",
   "execution_count": 281,
   "metadata": {},
   "outputs": [],
   "source": [
    "# -------------------------------------------------------------- #"
   ]
  },
  {
   "cell_type": "code",
   "execution_count": 308,
   "metadata": {},
   "outputs": [
    {
     "data": {
      "text/plain": [
       "1864"
      ]
     },
     "execution_count": 308,
     "metadata": {},
     "output_type": "execute_result"
    }
   ],
   "source": [
    "X_train_tokens = vect.get_feature_names()\n",
    "len(X_train_tokens)"
   ]
  },
  {
   "cell_type": "code",
   "execution_count": 309,
   "metadata": {},
   "outputs": [],
   "source": [
    "a_token = clf.feature_count_[0, :]\n",
    "b_token = clf.feature_count_[1, :]\n",
    "tokens = pd.DataFrame({'token': X_train_tokens, 'bad': a_token, 'good': b_token}).set_index('token')"
   ]
  },
  {
   "cell_type": "code",
   "execution_count": 310,
   "metadata": {},
   "outputs": [
    {
     "data": {
      "text/html": [
       "<div>\n",
       "<style scoped>\n",
       "    .dataframe tbody tr th:only-of-type {\n",
       "        vertical-align: middle;\n",
       "    }\n",
       "\n",
       "    .dataframe tbody tr th {\n",
       "        vertical-align: top;\n",
       "    }\n",
       "\n",
       "    .dataframe thead th {\n",
       "        text-align: right;\n",
       "    }\n",
       "</style>\n",
       "<table border=\"1\" class=\"dataframe\">\n",
       "  <thead>\n",
       "    <tr style=\"text-align: right;\">\n",
       "      <th></th>\n",
       "      <th>bad</th>\n",
       "      <th>good</th>\n",
       "    </tr>\n",
       "    <tr>\n",
       "      <th>token</th>\n",
       "      <th></th>\n",
       "      <th></th>\n",
       "    </tr>\n",
       "  </thead>\n",
       "  <tbody>\n",
       "    <tr>\n",
       "      <th>abandons</th>\n",
       "      <td>0.000000</td>\n",
       "      <td>0.168332</td>\n",
       "    </tr>\n",
       "    <tr>\n",
       "      <th>abarca</th>\n",
       "      <td>0.044934</td>\n",
       "      <td>0.000000</td>\n",
       "    </tr>\n",
       "    <tr>\n",
       "      <th>able</th>\n",
       "      <td>0.136145</td>\n",
       "      <td>0.091609</td>\n",
       "    </tr>\n",
       "    <tr>\n",
       "      <th>abomination</th>\n",
       "      <td>0.000000</td>\n",
       "      <td>0.150035</td>\n",
       "    </tr>\n",
       "    <tr>\n",
       "      <th>abrams</th>\n",
       "      <td>0.302636</td>\n",
       "      <td>0.318246</td>\n",
       "    </tr>\n",
       "  </tbody>\n",
       "</table>\n",
       "</div>"
      ],
      "text/plain": [
       "                  bad      good\n",
       "token                          \n",
       "abandons     0.000000  0.168332\n",
       "abarca       0.044934  0.000000\n",
       "able         0.136145  0.091609\n",
       "abomination  0.000000  0.150035\n",
       "abrams       0.302636  0.318246"
      ]
     },
     "execution_count": 310,
     "metadata": {},
     "output_type": "execute_result"
    }
   ],
   "source": [
    "tokens.head()"
   ]
  },
  {
   "cell_type": "code",
   "execution_count": 311,
   "metadata": {},
   "outputs": [
    {
     "data": {
      "text/html": [
       "<div>\n",
       "<style scoped>\n",
       "    .dataframe tbody tr th:only-of-type {\n",
       "        vertical-align: middle;\n",
       "    }\n",
       "\n",
       "    .dataframe tbody tr th {\n",
       "        vertical-align: top;\n",
       "    }\n",
       "\n",
       "    .dataframe thead th {\n",
       "        text-align: right;\n",
       "    }\n",
       "</style>\n",
       "<table border=\"1\" class=\"dataframe\">\n",
       "  <thead>\n",
       "    <tr style=\"text-align: right;\">\n",
       "      <th></th>\n",
       "      <th>bad</th>\n",
       "      <th>good</th>\n",
       "    </tr>\n",
       "    <tr>\n",
       "      <th>token</th>\n",
       "      <th></th>\n",
       "      <th></th>\n",
       "    </tr>\n",
       "  </thead>\n",
       "  <tbody>\n",
       "    <tr>\n",
       "      <th>mary</th>\n",
       "      <td>1.000000</td>\n",
       "      <td>1.268631</td>\n",
       "    </tr>\n",
       "    <tr>\n",
       "      <th>ways</th>\n",
       "      <td>1.128009</td>\n",
       "      <td>1.295002</td>\n",
       "    </tr>\n",
       "    <tr>\n",
       "      <th>numbers</th>\n",
       "      <td>1.374464</td>\n",
       "      <td>1.000000</td>\n",
       "    </tr>\n",
       "    <tr>\n",
       "      <th>sit</th>\n",
       "      <td>1.496876</td>\n",
       "      <td>1.000000</td>\n",
       "    </tr>\n",
       "    <tr>\n",
       "      <th>noninspiring</th>\n",
       "      <td>1.000000</td>\n",
       "      <td>1.155912</td>\n",
       "    </tr>\n",
       "  </tbody>\n",
       "</table>\n",
       "</div>"
      ],
      "text/plain": [
       "                   bad      good\n",
       "token                           \n",
       "mary          1.000000  1.268631\n",
       "ways          1.128009  1.295002\n",
       "numbers       1.374464  1.000000\n",
       "sit           1.496876  1.000000\n",
       "noninspiring  1.000000  1.155912"
      ]
     },
     "execution_count": 311,
     "metadata": {},
     "output_type": "execute_result"
    }
   ],
   "source": [
    "tokens['bad'] += 1\n",
    "tokens['good'] += 1\n",
    "tokens.sample(5, random_state=6)"
   ]
  },
  {
   "cell_type": "code",
   "execution_count": 312,
   "metadata": {},
   "outputs": [
    {
     "data": {
      "text/html": [
       "<div>\n",
       "<style scoped>\n",
       "    .dataframe tbody tr th:only-of-type {\n",
       "        vertical-align: middle;\n",
       "    }\n",
       "\n",
       "    .dataframe tbody tr th {\n",
       "        vertical-align: top;\n",
       "    }\n",
       "\n",
       "    .dataframe thead th {\n",
       "        text-align: right;\n",
       "    }\n",
       "</style>\n",
       "<table border=\"1\" class=\"dataframe\">\n",
       "  <thead>\n",
       "    <tr style=\"text-align: right;\">\n",
       "      <th></th>\n",
       "      <th>bad</th>\n",
       "      <th>good</th>\n",
       "      <th>ratio</th>\n",
       "    </tr>\n",
       "    <tr>\n",
       "      <th>token</th>\n",
       "      <th></th>\n",
       "      <th></th>\n",
       "      <th></th>\n",
       "    </tr>\n",
       "  </thead>\n",
       "  <tbody>\n",
       "    <tr>\n",
       "      <th>mary</th>\n",
       "      <td>1.000000</td>\n",
       "      <td>1.268631</td>\n",
       "      <td>0.788251</td>\n",
       "    </tr>\n",
       "    <tr>\n",
       "      <th>ways</th>\n",
       "      <td>1.128009</td>\n",
       "      <td>1.295002</td>\n",
       "      <td>0.871048</td>\n",
       "    </tr>\n",
       "    <tr>\n",
       "      <th>numbers</th>\n",
       "      <td>1.374464</td>\n",
       "      <td>1.000000</td>\n",
       "      <td>1.374464</td>\n",
       "    </tr>\n",
       "    <tr>\n",
       "      <th>sit</th>\n",
       "      <td>1.496876</td>\n",
       "      <td>1.000000</td>\n",
       "      <td>1.496876</td>\n",
       "    </tr>\n",
       "    <tr>\n",
       "      <th>noninspiring</th>\n",
       "      <td>1.000000</td>\n",
       "      <td>1.155912</td>\n",
       "      <td>0.865117</td>\n",
       "    </tr>\n",
       "  </tbody>\n",
       "</table>\n",
       "</div>"
      ],
      "text/plain": [
       "                   bad      good     ratio\n",
       "token                                     \n",
       "mary          1.000000  1.268631  0.788251\n",
       "ways          1.128009  1.295002  0.871048\n",
       "numbers       1.374464  1.000000  1.374464\n",
       "sit           1.496876  1.000000  1.496876\n",
       "noninspiring  1.000000  1.155912  0.865117"
      ]
     },
     "execution_count": 312,
     "metadata": {},
     "output_type": "execute_result"
    }
   ],
   "source": [
    "tokens['ratio'] = tokens.bad / tokens.good\n",
    "tokens.sample(5, random_state=6)"
   ]
  },
  {
   "cell_type": "code",
   "execution_count": null,
   "metadata": {},
   "outputs": [],
   "source": []
  },
  {
   "cell_type": "code",
   "execution_count": 313,
   "metadata": {},
   "outputs": [
    {
     "data": {
      "text/html": [
       "<div>\n",
       "<style scoped>\n",
       "    .dataframe tbody tr th:only-of-type {\n",
       "        vertical-align: middle;\n",
       "    }\n",
       "\n",
       "    .dataframe tbody tr th {\n",
       "        vertical-align: top;\n",
       "    }\n",
       "\n",
       "    .dataframe thead th {\n",
       "        text-align: right;\n",
       "    }\n",
       "</style>\n",
       "<table border=\"1\" class=\"dataframe\">\n",
       "  <thead>\n",
       "    <tr style=\"text-align: right;\">\n",
       "      <th></th>\n",
       "      <th>bad</th>\n",
       "      <th>good</th>\n",
       "      <th>ratio</th>\n",
       "    </tr>\n",
       "    <tr>\n",
       "      <th>token</th>\n",
       "      <th></th>\n",
       "      <th></th>\n",
       "      <th></th>\n",
       "    </tr>\n",
       "  </thead>\n",
       "  <tbody>\n",
       "    <tr>\n",
       "      <th>rewarding</th>\n",
       "      <td>1.876367</td>\n",
       "      <td>1.000000</td>\n",
       "      <td>1.876367</td>\n",
       "    </tr>\n",
       "    <tr>\n",
       "      <th>la</th>\n",
       "      <td>1.867203</td>\n",
       "      <td>1.000000</td>\n",
       "      <td>1.867203</td>\n",
       "    </tr>\n",
       "    <tr>\n",
       "      <th>enjoy</th>\n",
       "      <td>2.001820</td>\n",
       "      <td>1.078418</td>\n",
       "      <td>1.856256</td>\n",
       "    </tr>\n",
       "    <tr>\n",
       "      <th>sucked</th>\n",
       "      <td>1.805819</td>\n",
       "      <td>1.000000</td>\n",
       "      <td>1.805819</td>\n",
       "    </tr>\n",
       "    <tr>\n",
       "      <th>far</th>\n",
       "      <td>2.465002</td>\n",
       "      <td>1.368791</td>\n",
       "      <td>1.800861</td>\n",
       "    </tr>\n",
       "    <tr>\n",
       "      <th>hate</th>\n",
       "      <td>1.799097</td>\n",
       "      <td>1.000000</td>\n",
       "      <td>1.799097</td>\n",
       "    </tr>\n",
       "    <tr>\n",
       "      <th>better</th>\n",
       "      <td>3.483028</td>\n",
       "      <td>1.942699</td>\n",
       "      <td>1.792881</td>\n",
       "    </tr>\n",
       "    <tr>\n",
       "      <th>worst</th>\n",
       "      <td>3.072307</td>\n",
       "      <td>1.765260</td>\n",
       "      <td>1.740428</td>\n",
       "    </tr>\n",
       "    <tr>\n",
       "      <th>phenomenal</th>\n",
       "      <td>1.735597</td>\n",
       "      <td>1.000000</td>\n",
       "      <td>1.735597</td>\n",
       "    </tr>\n",
       "    <tr>\n",
       "      <th>history</th>\n",
       "      <td>1.716720</td>\n",
       "      <td>1.000000</td>\n",
       "      <td>1.716720</td>\n",
       "    </tr>\n",
       "    <tr>\n",
       "      <th>listen</th>\n",
       "      <td>1.663362</td>\n",
       "      <td>1.000000</td>\n",
       "      <td>1.663362</td>\n",
       "    </tr>\n",
       "    <tr>\n",
       "      <th>super</th>\n",
       "      <td>1.653806</td>\n",
       "      <td>1.000000</td>\n",
       "      <td>1.653806</td>\n",
       "    </tr>\n",
       "    <tr>\n",
       "      <th>crappy</th>\n",
       "      <td>1.642002</td>\n",
       "      <td>1.000000</td>\n",
       "      <td>1.642002</td>\n",
       "    </tr>\n",
       "    <tr>\n",
       "      <th>letdown</th>\n",
       "      <td>1.609020</td>\n",
       "      <td>1.000000</td>\n",
       "      <td>1.609020</td>\n",
       "    </tr>\n",
       "    <tr>\n",
       "      <th>que</th>\n",
       "      <td>1.584145</td>\n",
       "      <td>1.000000</td>\n",
       "      <td>1.584145</td>\n",
       "    </tr>\n",
       "    <tr>\n",
       "      <th>ok</th>\n",
       "      <td>1.746979</td>\n",
       "      <td>1.105013</td>\n",
       "      <td>1.580958</td>\n",
       "    </tr>\n",
       "    <tr>\n",
       "      <th>major</th>\n",
       "      <td>1.800037</td>\n",
       "      <td>1.142612</td>\n",
       "      <td>1.575370</td>\n",
       "    </tr>\n",
       "    <tr>\n",
       "      <th>fun</th>\n",
       "      <td>1.571421</td>\n",
       "      <td>1.000000</td>\n",
       "      <td>1.571421</td>\n",
       "    </tr>\n",
       "    <tr>\n",
       "      <th>emotionally</th>\n",
       "      <td>1.564683</td>\n",
       "      <td>1.000000</td>\n",
       "      <td>1.564683</td>\n",
       "    </tr>\n",
       "    <tr>\n",
       "      <th>dislike</th>\n",
       "      <td>1.564392</td>\n",
       "      <td>1.000000</td>\n",
       "      <td>1.564392</td>\n",
       "    </tr>\n",
       "    <tr>\n",
       "      <th>ride</th>\n",
       "      <td>2.060491</td>\n",
       "      <td>1.318250</td>\n",
       "      <td>1.563050</td>\n",
       "    </tr>\n",
       "    <tr>\n",
       "      <th>attempt</th>\n",
       "      <td>1.545770</td>\n",
       "      <td>1.000000</td>\n",
       "      <td>1.545770</td>\n",
       "    </tr>\n",
       "    <tr>\n",
       "      <th>loved</th>\n",
       "      <td>2.866181</td>\n",
       "      <td>1.892339</td>\n",
       "      <td>1.514624</td>\n",
       "    </tr>\n",
       "    <tr>\n",
       "      <th>unsatisfactory</th>\n",
       "      <td>1.508987</td>\n",
       "      <td>1.000000</td>\n",
       "      <td>1.508987</td>\n",
       "    </tr>\n",
       "    <tr>\n",
       "      <th>fights</th>\n",
       "      <td>1.508298</td>\n",
       "      <td>1.000000</td>\n",
       "      <td>1.508298</td>\n",
       "    </tr>\n",
       "    <tr>\n",
       "      <th>sit</th>\n",
       "      <td>1.496876</td>\n",
       "      <td>1.000000</td>\n",
       "      <td>1.496876</td>\n",
       "    </tr>\n",
       "    <tr>\n",
       "      <th>deserve</th>\n",
       "      <td>1.491938</td>\n",
       "      <td>1.000000</td>\n",
       "      <td>1.491938</td>\n",
       "    </tr>\n",
       "    <tr>\n",
       "      <th>vitriolic</th>\n",
       "      <td>1.491938</td>\n",
       "      <td>1.000000</td>\n",
       "      <td>1.491938</td>\n",
       "    </tr>\n",
       "    <tr>\n",
       "      <th>whining</th>\n",
       "      <td>1.487351</td>\n",
       "      <td>1.000000</td>\n",
       "      <td>1.487351</td>\n",
       "    </tr>\n",
       "    <tr>\n",
       "      <th>whiners</th>\n",
       "      <td>1.487351</td>\n",
       "      <td>1.000000</td>\n",
       "      <td>1.487351</td>\n",
       "    </tr>\n",
       "    <tr>\n",
       "      <th>...</th>\n",
       "      <td>...</td>\n",
       "      <td>...</td>\n",
       "      <td>...</td>\n",
       "    </tr>\n",
       "    <tr>\n",
       "      <th>films</th>\n",
       "      <td>1.161423</td>\n",
       "      <td>1.991668</td>\n",
       "      <td>0.583141</td>\n",
       "    </tr>\n",
       "    <tr>\n",
       "      <th>using</th>\n",
       "      <td>1.000000</td>\n",
       "      <td>1.715462</td>\n",
       "      <td>0.582933</td>\n",
       "    </tr>\n",
       "    <tr>\n",
       "      <th>may</th>\n",
       "      <td>1.000000</td>\n",
       "      <td>1.728677</td>\n",
       "      <td>0.578477</td>\n",
       "    </tr>\n",
       "    <tr>\n",
       "      <th>film</th>\n",
       "      <td>2.454755</td>\n",
       "      <td>4.261213</td>\n",
       "      <td>0.576070</td>\n",
       "    </tr>\n",
       "    <tr>\n",
       "      <th>takes</th>\n",
       "      <td>1.000000</td>\n",
       "      <td>1.737904</td>\n",
       "      <td>0.575406</td>\n",
       "    </tr>\n",
       "    <tr>\n",
       "      <th>tfa</th>\n",
       "      <td>1.000000</td>\n",
       "      <td>1.744017</td>\n",
       "      <td>0.573389</td>\n",
       "    </tr>\n",
       "    <tr>\n",
       "      <th>trilogy</th>\n",
       "      <td>1.139489</td>\n",
       "      <td>1.988014</td>\n",
       "      <td>0.573180</td>\n",
       "    </tr>\n",
       "    <tr>\n",
       "      <th>twists</th>\n",
       "      <td>1.000000</td>\n",
       "      <td>1.759565</td>\n",
       "      <td>0.568322</td>\n",
       "    </tr>\n",
       "    <tr>\n",
       "      <th>enjoyed</th>\n",
       "      <td>1.000000</td>\n",
       "      <td>1.763408</td>\n",
       "      <td>0.567084</td>\n",
       "    </tr>\n",
       "    <tr>\n",
       "      <th>hard</th>\n",
       "      <td>1.000000</td>\n",
       "      <td>1.764727</td>\n",
       "      <td>0.566660</td>\n",
       "    </tr>\n",
       "    <tr>\n",
       "      <th>script</th>\n",
       "      <td>1.000000</td>\n",
       "      <td>1.766437</td>\n",
       "      <td>0.566111</td>\n",
       "    </tr>\n",
       "    <tr>\n",
       "      <th>care</th>\n",
       "      <td>1.000000</td>\n",
       "      <td>1.785348</td>\n",
       "      <td>0.560115</td>\n",
       "    </tr>\n",
       "    <tr>\n",
       "      <th>space</th>\n",
       "      <td>1.145657</td>\n",
       "      <td>2.047944</td>\n",
       "      <td>0.559418</td>\n",
       "    </tr>\n",
       "    <tr>\n",
       "      <th>place</th>\n",
       "      <td>1.000000</td>\n",
       "      <td>1.792180</td>\n",
       "      <td>0.557980</td>\n",
       "    </tr>\n",
       "    <tr>\n",
       "      <th>take</th>\n",
       "      <td>1.000000</td>\n",
       "      <td>1.797321</td>\n",
       "      <td>0.556384</td>\n",
       "    </tr>\n",
       "    <tr>\n",
       "      <th>disney</th>\n",
       "      <td>1.631729</td>\n",
       "      <td>2.937515</td>\n",
       "      <td>0.555479</td>\n",
       "    </tr>\n",
       "    <tr>\n",
       "      <th>felt</th>\n",
       "      <td>1.000000</td>\n",
       "      <td>1.810841</td>\n",
       "      <td>0.552230</td>\n",
       "    </tr>\n",
       "    <tr>\n",
       "      <th>back</th>\n",
       "      <td>1.162361</td>\n",
       "      <td>2.153064</td>\n",
       "      <td>0.539864</td>\n",
       "    </tr>\n",
       "    <tr>\n",
       "      <th>universe</th>\n",
       "      <td>1.248416</td>\n",
       "      <td>2.336527</td>\n",
       "      <td>0.534304</td>\n",
       "    </tr>\n",
       "    <tr>\n",
       "      <th>plot</th>\n",
       "      <td>1.668058</td>\n",
       "      <td>3.147166</td>\n",
       "      <td>0.530019</td>\n",
       "    </tr>\n",
       "    <tr>\n",
       "      <th>jedi</th>\n",
       "      <td>1.561733</td>\n",
       "      <td>3.015133</td>\n",
       "      <td>0.517965</td>\n",
       "    </tr>\n",
       "    <tr>\n",
       "      <th>would</th>\n",
       "      <td>1.321851</td>\n",
       "      <td>2.577325</td>\n",
       "      <td>0.512877</td>\n",
       "    </tr>\n",
       "    <tr>\n",
       "      <th>snoke</th>\n",
       "      <td>1.060043</td>\n",
       "      <td>2.140118</td>\n",
       "      <td>0.495320</td>\n",
       "    </tr>\n",
       "    <tr>\n",
       "      <th>say</th>\n",
       "      <td>1.246881</td>\n",
       "      <td>2.538015</td>\n",
       "      <td>0.491282</td>\n",
       "    </tr>\n",
       "    <tr>\n",
       "      <th>first</th>\n",
       "      <td>1.074922</td>\n",
       "      <td>2.199178</td>\n",
       "      <td>0.488784</td>\n",
       "    </tr>\n",
       "    <tr>\n",
       "      <th>feeling</th>\n",
       "      <td>1.000000</td>\n",
       "      <td>2.136325</td>\n",
       "      <td>0.468093</td>\n",
       "    </tr>\n",
       "    <tr>\n",
       "      <th>thought</th>\n",
       "      <td>1.000000</td>\n",
       "      <td>2.176629</td>\n",
       "      <td>0.459426</td>\n",
       "    </tr>\n",
       "    <tr>\n",
       "      <th>rey</th>\n",
       "      <td>1.057189</td>\n",
       "      <td>2.442545</td>\n",
       "      <td>0.432823</td>\n",
       "    </tr>\n",
       "    <tr>\n",
       "      <th>characters</th>\n",
       "      <td>1.087089</td>\n",
       "      <td>2.566570</td>\n",
       "      <td>0.423557</td>\n",
       "    </tr>\n",
       "    <tr>\n",
       "      <th>new</th>\n",
       "      <td>1.434093</td>\n",
       "      <td>3.767223</td>\n",
       "      <td>0.380676</td>\n",
       "    </tr>\n",
       "  </tbody>\n",
       "</table>\n",
       "<p>1864 rows × 3 columns</p>\n",
       "</div>"
      ],
      "text/plain": [
       "                     bad      good     ratio\n",
       "token                                       \n",
       "rewarding       1.876367  1.000000  1.876367\n",
       "la              1.867203  1.000000  1.867203\n",
       "enjoy           2.001820  1.078418  1.856256\n",
       "sucked          1.805819  1.000000  1.805819\n",
       "far             2.465002  1.368791  1.800861\n",
       "hate            1.799097  1.000000  1.799097\n",
       "better          3.483028  1.942699  1.792881\n",
       "worst           3.072307  1.765260  1.740428\n",
       "phenomenal      1.735597  1.000000  1.735597\n",
       "history         1.716720  1.000000  1.716720\n",
       "listen          1.663362  1.000000  1.663362\n",
       "super           1.653806  1.000000  1.653806\n",
       "crappy          1.642002  1.000000  1.642002\n",
       "letdown         1.609020  1.000000  1.609020\n",
       "que             1.584145  1.000000  1.584145\n",
       "ok              1.746979  1.105013  1.580958\n",
       "major           1.800037  1.142612  1.575370\n",
       "fun             1.571421  1.000000  1.571421\n",
       "emotionally     1.564683  1.000000  1.564683\n",
       "dislike         1.564392  1.000000  1.564392\n",
       "ride            2.060491  1.318250  1.563050\n",
       "attempt         1.545770  1.000000  1.545770\n",
       "loved           2.866181  1.892339  1.514624\n",
       "unsatisfactory  1.508987  1.000000  1.508987\n",
       "fights          1.508298  1.000000  1.508298\n",
       "sit             1.496876  1.000000  1.496876\n",
       "deserve         1.491938  1.000000  1.491938\n",
       "vitriolic       1.491938  1.000000  1.491938\n",
       "whining         1.487351  1.000000  1.487351\n",
       "whiners         1.487351  1.000000  1.487351\n",
       "...                  ...       ...       ...\n",
       "films           1.161423  1.991668  0.583141\n",
       "using           1.000000  1.715462  0.582933\n",
       "may             1.000000  1.728677  0.578477\n",
       "film            2.454755  4.261213  0.576070\n",
       "takes           1.000000  1.737904  0.575406\n",
       "tfa             1.000000  1.744017  0.573389\n",
       "trilogy         1.139489  1.988014  0.573180\n",
       "twists          1.000000  1.759565  0.568322\n",
       "enjoyed         1.000000  1.763408  0.567084\n",
       "hard            1.000000  1.764727  0.566660\n",
       "script          1.000000  1.766437  0.566111\n",
       "care            1.000000  1.785348  0.560115\n",
       "space           1.145657  2.047944  0.559418\n",
       "place           1.000000  1.792180  0.557980\n",
       "take            1.000000  1.797321  0.556384\n",
       "disney          1.631729  2.937515  0.555479\n",
       "felt            1.000000  1.810841  0.552230\n",
       "back            1.162361  2.153064  0.539864\n",
       "universe        1.248416  2.336527  0.534304\n",
       "plot            1.668058  3.147166  0.530019\n",
       "jedi            1.561733  3.015133  0.517965\n",
       "would           1.321851  2.577325  0.512877\n",
       "snoke           1.060043  2.140118  0.495320\n",
       "say             1.246881  2.538015  0.491282\n",
       "first           1.074922  2.199178  0.488784\n",
       "feeling         1.000000  2.136325  0.468093\n",
       "thought         1.000000  2.176629  0.459426\n",
       "rey             1.057189  2.442545  0.432823\n",
       "characters      1.087089  2.566570  0.423557\n",
       "new             1.434093  3.767223  0.380676\n",
       "\n",
       "[1864 rows x 3 columns]"
      ]
     },
     "execution_count": 313,
     "metadata": {},
     "output_type": "execute_result"
    }
   ],
   "source": [
    "tokens.sort_values('ratio', ascending=False)"
   ]
  },
  {
   "cell_type": "code",
   "execution_count": null,
   "metadata": {},
   "outputs": [],
   "source": []
  }
 ],
 "metadata": {
  "kernelspec": {
   "display_name": "Python 3",
   "language": "python",
   "name": "python3"
  },
  "language_info": {
   "codemirror_mode": {
    "name": "ipython",
    "version": 3
   },
   "file_extension": ".py",
   "mimetype": "text/x-python",
   "name": "python",
   "nbconvert_exporter": "python",
   "pygments_lexer": "ipython3",
   "version": "3.6.3"
  }
 },
 "nbformat": 4,
 "nbformat_minor": 2
}
