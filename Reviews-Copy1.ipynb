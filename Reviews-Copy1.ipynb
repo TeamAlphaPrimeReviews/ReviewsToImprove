{
 "cells": [
  {
   "cell_type": "code",
   "execution_count": 12,
   "metadata": {},
   "outputs": [],
   "source": [
    "import nltk"
   ]
  },
  {
   "cell_type": "code",
   "execution_count": 13,
   "metadata": {},
   "outputs": [],
   "source": [
    "import pandas as pd"
   ]
  },
  {
   "cell_type": "code",
   "execution_count": 14,
   "metadata": {},
   "outputs": [],
   "source": [
    "good_data = pd.read_csv(\"good_reviews.csv\")"
   ]
  },
  {
   "cell_type": "code",
   "execution_count": 15,
   "metadata": {},
   "outputs": [],
   "source": [
    "bad_data = pd.read_csv(\"bad_reviews.csv\")"
   ]
  },
  {
   "cell_type": "code",
   "execution_count": 16,
   "metadata": {},
   "outputs": [],
   "source": [
    "import sklearn.feature_extraction.text"
   ]
  },
  {
   "cell_type": "code",
   "execution_count": 17,
   "metadata": {},
   "outputs": [],
   "source": [
    "from nltk.tokenize import word_tokenize"
   ]
  },
  {
   "cell_type": "code",
   "execution_count": 18,
   "metadata": {},
   "outputs": [],
   "source": [
    "import scipy"
   ]
  },
  {
   "cell_type": "code",
   "execution_count": 19,
   "metadata": {},
   "outputs": [],
   "source": [
    "import string"
   ]
  },
  {
   "cell_type": "code",
   "execution_count": 20,
   "metadata": {},
   "outputs": [],
   "source": [
    "from nltk.corpus import stopwords"
   ]
  },
  {
   "cell_type": "code",
   "execution_count": 21,
   "metadata": {},
   "outputs": [],
   "source": [
    "from sklearn.feature_extraction.text import TfidfVectorizer"
   ]
  },
  {
   "cell_type": "code",
   "execution_count": 22,
   "metadata": {},
   "outputs": [],
   "source": [
    "from sklearn.naive_bayes import MultinomialNB"
   ]
  },
  {
   "cell_type": "code",
   "execution_count": 1,
   "metadata": {},
   "outputs": [
    {
     "name": "stderr",
     "output_type": "stream",
     "text": [
      "Downloading 20news dataset. This may take a few minutes.\n",
      "Downloading dataset from https://ndownloader.figshare.com/files/5975967 (14 MB)\n"
     ]
    }
   ],
   "source": [
    "from sklearn.datasets import fetch_20newsgroups\n",
    "twenty_train = fetch_20newsgroups(subset='train', shuffle=True)"
   ]
  },
  {
   "cell_type": "code",
   "execution_count": 43,
   "metadata": {},
   "outputs": [],
   "source": [
    "import numpy as np"
   ]
  },
  {
   "cell_type": "code",
   "execution_count": 64,
   "metadata": {},
   "outputs": [
    {
     "data": {
      "text/plain": [
       "\"From: lerxst@wam.umd.edu (where's my thing)\\nSubject: WHAT car is this!?\\nNntp-Posting-Host: rac3.wam.umd.edu\\nOrganization: University of Maryland, College Park\\nLines: 15\\n\\n I was wondering if anyone out there could enlighten me on this car I saw\\nthe other day. It was a 2-door sports car, looked to be from the late 60s/\\nearly 70s. It was called a Bricklin. The doors were really small. In addition,\\nthe front bumper was separate from the rest of the body. This is \\nall I know. If anyone can tellme a model name, engine specs, years\\nof production, where this car is made, history, or whatever info you\\nhave on this funky looking car, please e-mail.\\n\\nThanks,\\n- IL\\n   ---- brought to you by your neighborhood Lerxst ----\\n\\n\\n\\n\\n\""
      ]
     },
     "execution_count": 64,
     "metadata": {},
     "output_type": "execute_result"
    }
   ],
   "source": [
    "twenty_train.data[0]"
   ]
  },
  {
   "cell_type": "code",
   "execution_count": 23,
   "metadata": {},
   "outputs": [],
   "source": [
    "good_list = []"
   ]
  },
  {
   "cell_type": "code",
   "execution_count": 24,
   "metadata": {},
   "outputs": [
    {
     "data": {
      "text/plain": [
       "'Prepare the good text for analysis.'"
      ]
     },
     "execution_count": 24,
     "metadata": {},
     "output_type": "execute_result"
    }
   ],
   "source": [
    "\"\"\"Prepare the good text for analysis.\"\"\""
   ]
  },
  {
   "cell_type": "code",
   "execution_count": 25,
   "metadata": {
    "scrolled": false
   },
   "outputs": [],
   "source": [
    "for item in good_data['review']:   \n",
    "    # split into words\n",
    "    tokens = word_tokenize(item)\n",
    "    # convert to lowercase\n",
    "    tokens = [w.lower() for w in tokens]\n",
    "    # remove punctuation and abberations\n",
    "    table = str.maketrans('', '', string.punctuation)\n",
    "    stripped = [w.translate(table) for w in tokens]\n",
    "    words = [word for word in stripped if word.isalpha()]\n",
    "    # filter out stop words\n",
    "    stop_words = set(stopwords.words('english'))\n",
    "    words = [w for w in words if w not in stop_words]\n",
    "    # words is now a list of the significant words\n",
    "    for word in words:\n",
    "        good_list.append(word)\n",
    "    \n",
    "      "
   ]
  },
  {
   "cell_type": "code",
   "execution_count": 26,
   "metadata": {},
   "outputs": [
    {
     "name": "stdout",
     "output_type": "stream",
     "text": [
      "['complete', 'disappointment', 'pessimism', 'defeat', 'supposed', 'message', 'star', 'wars', 'say', 'series', 'jumped', 'shark', 'apt', 'say', 'milked', 'space', 'walrusbummer', 'complete', 'waste', 'ingredients', 'everything', 'good', 'film', 'yet', 'gets', 'wrong', 'seeing', 'high', 'praise', 'critical', 'reviews', 'stunning', 'film', 'would', 'gotten', 'easy', 'ride', 'whilst', 'containing', 'many', 'plot', 'pacing', 'issues', 'richly', 'layered', 'piece', 'storytelling', 'properly', 'takes', 'time', 'develop', 'characters', 'yet', 'moves', 'us', 'right', 'long', 'deft', 'twists', 'surprising', 'turns', 'fully', 'satisfied', 'answers', 'questions', 'left', 'tfa', 'especially', 'rey', 'parentage', 'resolution', 'makes', 'even', 'remarkable', 'already', 'seen', 'one', 'twice', 'opening', 'weekend', 'back', 'catch', 'missed', 'first', 'go', 'jedi', 'ready', 'since', 'day', 'one', 'may', 'bring', 'episode', 'ix', 'hope', 'surprising', 'deeply', 'satisfying', 'star', 'music', 'effects', 'cinematography', 'throw', 'enough', 'money', 'expected', 'outcome', 'star', 'poorly', 'written', 'characters', 'new', 'old', 'star', 'huge', 'plot', 'holes', 'throughout', 'spoiler', 'onedimensional', 'space', 'chase', 'slightly', 'faster', 'ships', 'vs', 'galaxy', 'controlling', 'empire', 'seriously', 'thought', 'better', 'rian', 'johnson', 'looper', 'okay', 'time', 'travel', 'movie', 'shows', 'lazy', 'one', 'star', 'pacing', 'humour', 'nt', 'work', 'smart', 'lot', 'character', 'tone', 'scenes', 'star', 'marvellike', 'moneymaking', 'machine', 'refund', 'finished', 'competent', 'movie', 'eadisney', 'destroyed', 'battlefront', 'rjdisney', 'killed', 'star', 'wars', 'rip', 'absolute', 'filth', 'shame', 'disney', 'trying', 'push', 'drivel', 'story', 'character', 'motivations', 'make', 'sense', 'ever', 'movie', 'ruined', 'star', 'wars', 'thought', 'would', 'impossible', 'abysmal', 'force', 'awakens', 'go', 'see', 'movie', 'action', 'beginning', 'end', 'one', 'best', 'ones', 'waiting', 'two', 'years', 'last', 'jedi', 'buying', 'ticket', 'day', 'came', 'incredibly', 'hard', 'write', 'review', 'honestly', 'still', 'shock', 'bad', 'movie', 'started', 'great', 'soon', 'came', 'crashing', 'completely', 'understand', 'disney', 'trying', 'basically', 'say', 'old', 'star', 'wars', 'universe', 'story', 'dead', 'new', 'generation', 'story', 'born', 'would', 'middle', 'trilogy', 'without', 'answering', 'questions', 'two', 'years', 'world', 'jj', 'going', 'episode', 'besides', 'answering', 'questions', 'die', 'hard', 'fans', 'waiting', 'answered', 'years', 'tons', 'things', 'make', 'movie', 'cringe', 'worthy', 'one', 'dialogue', 'seemed', 'like', 'written', 'crayon', 'nt', 'think', 'characters', 'ever', 'sentences', 'made', 'words', 'also', 'idea', 'star', 'wars', 'universe', 'part', 'pokemon', 'universe', 'well', 'oh', 'leia', 'magically', 'fly', 'space', 'come', 'back', 'life', 'gon', 'na', 'address', 'hour', 'long', 'movie', 'literally', 'nothing', 'happened', 'ship', 'slowly', 'chased', 'running', 'fuel', 'hour', 'half', 'plot', 'year', 'old', 'kid', 'never', 'seen', 'star', 'wars', 'movie', 'would', 'great', 'die', 'hard', 'star', 'wars', 'fan', 'spent', 'years', 'life', 'loving', 'characters', 'watching', 'movies', 'hundreds', 'times', 'buying', 'merchandise', 'plain', 'sad', 'nt', 'even', 'faith', 'han', 'solo', 'story', 'episode', 'future', 'star', 'wars', 'movie', 'congrats', 'disney', 'killed', 'childhood', 'almost', 'bad', 'phantom', 'menace', 'whole', 'film', 'rushed', 'acting', 'dialog', 'stale', 'comedy', 'awkward', 'wrongly', 'timed', 'plots', 'overdone', 'reused', 'fan', 'complaining', 'stuff', 'missing', 'books', 'paying', 'attention', 'disney', 'got', 'control', 'released', 'statement', 'scrapping', 'cannon', 'official', 'movieswhile', 'fan', 'decision', 'fact', 'made', 'done', 'amount', 'bitching', 'going', 'change', 'factoverall', 'good', 'star', 'wars', 'movie', 'well', 'worth', 'seeing', 'big', 'screen', 'arguably', 'worst', 'star', 'wars', 'film', 'ever', 'made', 'plot', 'character', 'development', 'nt', 'story', 'way', 'terrible', 'humour', 'nt', 'hit', 'mark', 'bad', 'script', 'writing', 'shame', 'force', 'awakens', 'masterpiece', 'comparison', 'pile', 'garbage', 'feel', 'sorry', 'actors', 'trash', 'work', 'awful', 'movie', 'start', 'finish', 'storyline', 'ridiculous', 'even', 'star', 'wars', 'film', 'parts', 'film', 'made', 'absolutely', 'sense', 'parts', 'u', 'thought', 'u', 'gon', 'na', 'get', 'answers', 'fall', 'flat', 'ca', 'nt', 'see', 'anyone', 'could', 'enjoyed', 'movie', 'wo', 'nt', 'paying', 'see', 'disneymade', 'star', 'wars', 'films', 'future', 'best', 'parts', 'last', 'jedi', 'directly', 'lifted', 'empire', 'strikes', 'back', 'original', 'material', 'either', 'bland', 'outright', 'destroys', 'hopeful', 'magic', 'skywalker', 'clan', 'previous', 'films', 'best', 'star', 'wars', 'film', 'ever', 'new', 'trilogy', 'taking', 'star', 'wars', 'universe', 'fantastic', 'new', 'direction', 'love', 'best', 'star', 'wars', 'movie', 'date', 'new', 'fan', 'movie', 'beautifully', 'made', 'manages', 'pay', 'tribute', 'old', 'films', 'cements', 'foundation', 'something', 'entirely', 'new', 'butchered', 'star', 'wars', 'universe', 'plot', 'holes', 'lackluster', 'writing', 'pushing', 'political', 'agenda', 'coming', 'movie', 'extremely', 'dissapointed', 'several', 'good', 'things', 'movie', 'unfortunately', 'bad', 'outweighs', 'good', 'rian', 'johnson', 'takes', 'set', 'force', 'awakens', 'destroys', 'along', 'several', 'plot', 'holes', 'ruins', 'story', 'rey', 'parents', 'apparently', 'nobodies', 'nt', 'learn', 'snoke', 'character', 'luke', 'treated', 'extremely', 'bad', 'johnson', 'gives', 'us', 'unnecessary', 'finn', 'rose', 'side', 'story', 'cringe', 'worthy', 'really', 'silly', 'laughable', 'seen', 'leia', 'may', 'go', 'one', 'worst', 'scenes', 'history', 'star', 'wars', 'also', 'fleet', 'star', 'destroyers', 'shooting', 'one', 'rebel', 'ship', 'deploy', 'bombers', 'ships', 'nt', 'admiral', 'holdo', 'tell', 'poe', 'plan', 'evacuate', 'instead', 'letting', 'mutiny', 'perhaps', 'one', 'worst', 'things', 'new', 'character', 'rose', 'apparently', 'falls', 'love', 'finn', 'hours', 'meeting', 'gives', 'one', 'cringe', 'worthy', 'kisses', 'movie', 'ever', 'seen', 'whole', 'point', 'finn', 'going', 'side', 'adventure', 'point', 'characterization', 'luke', 'skywalker', 'huge', 'letdown', 'movie', 'may', 'biggest', 'crime', 'committed', 'going', 'kill', 'anyway', 'show', 'person', 'end', 'instead', 'hologram', 'rian', 'johnson', 'nt', 'care', 'basically', 'screwed', 'everything', 'set', 'force', 'awakens', 'several', 'good', 'things', 'movie', 'acting', 'part', 'good', 'excellent', 'fight', 'scene', 'kylo', 'ren', 'rey', 'fight', 'snoke', 'guards', 'visuals', 'battles', 'amazing', 'would', 'say', 'movie', 'potential', 'great', 'alot', 'good', 'things', 'ultimately', 'story', 'direction', 'rian', 'johnson', 'went', 'along', 'certain', 'scenes', 'ruins', 'movie', 'jj', 'abrams', 'hands', 'full', 'going', 'able', 'fix', 'mess', 'movie', 'created', 'storyline', 'disney', 'opera', 'bombastic', 'special', 'effects', 'lots', 'green', 'screen', 'annoying', 'postfeminist', 'heroine', 'plot', 'holes', 'deep', 'mariana', 'trench', 'certainly', 'star', 'wars', 'utterly', 'disappointing', 'falls', 'rogue', 'one', 'force', 'awakens', 'terms', 'star', 'wars', 'movie', 'ranking', 'really', 'enjoyed', 'tfa', 'particularly', 'enthused', 'rogue', 'one', 'mixed', 'feelings', 'one', 'might', 'rian', 'johnson', 'goal', 'plenty', 'movie', 'stylesgenres', 'watch', 'hoping', 'challenged', 'star', 'wars', 'movies', 'one', 'least', 'seems', 'thumb', 'nose', 'tfa', 'weird', 'decision', 'make', 'things', 'considered', 'still', 'lot', 'enjoy', 'fondest', 'memories', 'original', 'trilogy', 'themes', 'brace', 'glorious', 'addition', 'franchise', 'puts', 'back', 'track', 'force', 'awaken', 'seemed', 'light', 'redux', 'original', 'saw', 'theaters', 'release', 'last', 'jedi', 'brings', 'magic', 'back', 'timely', 'story', 'line', 'glorious', 'visuals', 'good', 'acting', 'save', 'painfully', 'bad', 'script', 'well', 'received', 'rouge', 'one', 'high', 'hopes', 'franchise', 'could', 'brought', 'back', 'sun', 'terrible', 'prequel', 'trilogy', 'beentheredonethat', 'force', 'awakens', 'movie', 'suffer', 'hamfisted', 'attempts', 'humor', 'fall', 'flat', 'unintentionally', 'laughably', 'ridiculous', 'scenes', 'yes', 'mary', 'poppins', 'speak', 'throne', 'room', 'betrayal', 'became', 'clear', 'movie', 'determined', 'use', 'swerves', 'rather', 'thoughtful', 'storytelling', 'forward', 'plot', 'half', 'expected', 'whole', 'thing', 'dream', 'end', 'eyerolling', 'incredulous', 'disappointment', 'essentially', 'add', 'minute', 'videogame', 'style', 'quest', 'goes', 'nowhere', 'gleeful', 'book', 'burning', 'nazi', 'yoda', 'understand', 'desire', 'start', 'fresh', 'tad', 'onthenose', 'marvelous', 'build', 'luke', 'hopeless', 'figure', 'change', 'mind', 'real', 'reason', 'epic', 'showdown', 'another', 'swerve', 'franchise', 'critics', 'would', 'panned', 'sloppy', 'storytelling', 'inconsistenciesthat', 'said', 'critics', 'give', 'praise', 'two', 'possible', 'reasons', 'graded', 'curve', 'star', 'wars', 'franchise', 'ups', 'downs', 'downs', 'rather', 'dismal', 'rather', 'view', 'standard', 'movie', 'said', 'star', 'wars', 'movie', 'nt', 'bad', 'fear', 'given', 'disney', 'rather', 'draconian', 'treatment', 'criticism', 'lately', 'one', 'willing', 'risk', 'wrath', 'calling', 'tent', 'pole', 'franchise', 'turd', 'also', 'fear', 'fanboy', 'reaction', 'calling', 'yet', 'another', 'star', 'wars', 'movie', 'poor', 'job', 'ironic', 'hindsight', 'bad', 'press', 'world', 'stop', 'movie', 'billion', 'dollar', 'juggernaut', 'money', 'makes', 'force', 'movie', 'good', 'good', 'fun', 'nice', 'character', 'development', 'especially', 'rey', 'kylo', 'ren', 'establish', 'position', 'central', 'characters', 'final', 'trilogy', 'porgs', 'provide', 'comic', 'relief', 'without', 'becoming', 'annoying', 'old', 'geezers', 'luke', 'leia', 'blend', 'great', 'newcomers', 'great', 'casual', 'fan', 'looking', 'entertainment', 'die', 'hard', 'fans', 'one', 'source', 'arguments', 'years', 'come', 'great', 'movie', 'nt', 'go', 'lot', 'ideas', 'would', 'want', 'go', 'keep', 'open', 'mind', 'true', 'fan', 'like', 'trying', 'take', 'somewhere', 'new', 'honoring', 'done', 'horrendous', 'social', 'justice', 'nightmare', 'every', 'white', 'male', 'film', 'either', 'incredibly', 'incompetent', 'nefariousevil', 'character', 'star', 'wars', 'episode', 'iv', 'first', 'movie', 'saw', 'child', 'incredibly', 'sad', 'franchise', 'become', 'rip', 'star', 'wars', 'ca', 'nt', 'believe', 'horribly', 'stupid', 'plot', 'articles', 'haters', 'using', 'bots', 'scripts', 'lower', 'score', 'never', 'pay', 'disney', 'movies', 'would', 'fans', 'write', 'better', 'stories', 'dont', 'care', 'long', 'long', 'good', 'lord', 'rings', 'long', 'fantastic', 'want', 'movie', 'boring', 'politically', 'correct', 'nonsense', 'could', 'great', 'failed', 'enjoyed', 'see', 'long', 'times', 'sure', 'oddities', 'fact', 'rebels', 'reduced', 'handful', 'heroes', 'trapped', 'cave', 'yes', 'movie', 'falls', 'right', 'place', 'sets', 'rest', 'story', 'feel', 'like', 'kid', 'waited', 'years', 'christmas', 'found', 'lump', 'coal', 'stocking', 'walked', 'force', 'awakens', 'feeling', 'positively', 'giddy', 'left', 'last', 'jedi', 'feeling', 'disappointed', 'little', 'depressed', 'subplots', 'ridiculous', 'added', 'nothing', 'story', 'especially', 'casino', 'scenes', 'found', 'rolling', 'eyes', 'flashbacks', 'watching', 'prequels', 'certain', 'spots', 'great', 'see', 'luke', 'loved', 'mark', 'performance', 'cant', 'understand', 'wanted', 'sacrifice', 'another', 'hero', 'nt', 'write', 'leah', 'death', 'script', 'instead', 'lukes', 'original', 'stars', 'gone', 'fear', 'next', 'installment', 'nice', 'scenes', 'kilo', 'rey', 'many', 'plot', 'holes', 'unanswered', 'questions', 'unnecessary', 'characters', 'bad', 'storytelling', 'disappointing', 'force', 'awakens', 'terrific', 'start', 'series', 'gave', 'half', 'star', 'star', 'wars', 'title', 'otherwise', 'trashthis', 'movie', 'original', 'plotthe', 'franchise', 'nt', 'coherent', 'story', 'anymore', 'treats', 'audience', 'like', 'incredibly', 'stupid', 'clubbing', 'audience', 'overblown', 'rhetoric', 'top', 'villains', 'repeating', 'word', 'hope', 'missed', 'first', 'timethe', 'force', 'galactic', 'cheat', 'code', 'allowing', 'random', 'people', 'incredible', 'miracles', 'absolutely', 'training', 'whatever', 'instead', 'allowing', 'force', 'remain', 'elegant', 'mystery', 'described', 'yoda', 'empire', 'strikes', 'back', 'using', 'tool', 'sell', 'toy', 'light', 'sabers', 'every', 'kid', 'world', 'know', 'anyone', 'use', 'force', 'like', 'god', 'nowi', 'could', 'nt', 'care', 'less', 'new', 'characters', 'although', 'would', 'pay', 'money', 'watch', 'po', 'die', 'horriblyluke', 'turmoil', 'father', 'first', 'teacher', 'anakin', 'obi', 'wan', 'nt', 'even', 'check', 'message', 'audience', 'clear', 'fans', 'since', 'fade', 'background', 'luke', 'skywalker', 'star', 'wars', 'universe', 'knew', 'gone', 'coming', 'back', 'selling', 'micky', 'mouse', 'light', 'sabers', 'disney', 'star', 'wars', 'cruises', 'one', 'interested', 'telling', 'story', 'even', 'bad', 'story', 'next', 'time', 'nt', 'insult', 'world', 'put', 'minute', 'light', 'saber', 'battle', 'another', 'death', 'star', 'blow', 'someone', 'yell', 'hope', 'let', 'new', 'space', 'puffins', 'dance', 'around', 'millennium', 'falcon', 'strains', 'star', 'wars', 'theme', 'movie', 'fanboy', 'could', 'love', 'add', 'account', 'rotten', 'tomatoes', 'review', 'movie', 'people', 'critics', 'say', 'good', 'movie', 'either', 'paid', 'family', 'member', 'works', 'disney', 'production', 'film', 'science', 'fiction', 'film', 'many', 'plot', 'holes', 'pointless', 'story', 'arcs', 'fantasy', 'goes', 'beyond', 'bedrock', 'science', 'fiction', 'film', 'star', 'wars', 'movie', 'rian', 'johnson', 'disney', 'clearly', 'marking', 'territory', 'like', 'dog', 'urinating', 'tree', 'dissolve', 'nostalgia', 'ot', 'anything', 'built', 'force', 'awakens', 'nt', 'care', 'want', 'take', 'direction', 'nt', 'call', 'star', 'wars', 'film', 'franchise', 'lying', 'fan', 'base', 'lukes', 'statement', 'trailers', 'going', 'end', 'way', 'think', 'spot', 'entire', 'film', 'rest', 'star', 'wars', 'franchise', 'bottom', 'line', 'ok', 'film', 'god', 'awful', 'star', 'wars', 'anything', 'seen', 'star', 'wars', 'film', 'multiple', 'times', 'nt', 'think', 'bother', 'one', 'plot', 'massive', 'holes', 'spoiler', 'comments', 'characters', 'really', 'poorly', 'developed', 'unnecessary', 'scenes', 'another', 'reviewer', 'noted', 'needed', 'confuse', 'things', 'gravity', 'nt', 'happen', 'space', 'negates', 'crucial', 'minutes', 'film', 'little', 'bit', 'spoiling', 'family', 'wife', 'sons', 'walked', 'meh', 'review', 'different', 'perspectives', 'add', 'mehs', 'probably', 'would', 'give', 'stars', 'except', 'star', 'wars', 'cgi', 'outrageously', 'incredible', 'effects', 'get', 'stars', 'plot', 'character', 'development', 'unnecessary', 'ridiculous', 'scenes', 'get', 'stars', 'ca', 'nt', 'recommend', 'anyone', 'star', 'wars', 'fans', 'many', 'things', 'say', 'say', 'effects', 'porgs', 'great', 'story', 'lines', 'disappointing', 'weird', 'many', 'ways', 'especially', 'surrounding', 'luke', 'leia', 'may', 'add', 'reason', 'people', 'went', 'see', 'movie', 'first', 'place', 'left', 'tfa', 'nostalgic', 'trance', 'allowed', 'forgive', 'obvious', 'holes', 'shameless', 'copying', 'yes', 'tfa', 'played', 'safe', 'many', 'dismiss', 'film', 'avoid', 'tlj', 'arguably', 'done', 'soil', 'cherished', 'franchise', 'left', 'tlj', 'melancholy', 'tosses', 'compelling', 'new', 'plots', 'subtly', 'introduced', 'abrams', 'replaces', 'either', 'nothing', 'something', 'far', 'convoluted', 'alienated', 'rest', 'franchise', 'nearly', 'much', 'rogue', 'one', 'difference', 'rogue', 'one', 'meant', 'regards', 'cinematography', 'film', 'visually', 'delivers', 'despite', 'frustrating', 'nature', 'casino', 'subplot', 'entirety', 'one', 'instances', 'homage', 'original', 'fanatical', 'settings', 'unfortunately', 'main', 'quibble', 'film', 'represents', 'franchise', 'whole', 'disneyfication', 'star', 'wars', 'cutesy', 'infuriating', 'humour', 'shameless', 'plugs', 'young', 'viewers', 'think', 'owlpuffin', 'things', 'franchise', 'faces', 'serious', 'identity', 'crisis', 'simultaneously', 'supposedly', 'darker', 'film', 'lightcore', 'gore', 'deeper', 'moral', 'considerations', 'still', 'diluting', 'cheek', 'cuteness', 'brave', 'deliver', 'fans', 'want', 'expect', 'sure', 'think', 'still', 'fell', 'flat', 'abrams', 'serious', 'damage', 'control', 'finale', 'new', 'trilogy', 'summary', 'decent', 'standalone', 'film', 'merits', 'albeit', 'serious', 'plot', 'holes', 'dialogue', 'flaws', 'kiddos', 'like', 'classic', 'scifi', 'cinematography', 'sense', 'star', 'wars', 'film', 'think', 'many', 'generational', 'faithful', 'feel', 'cheated', 'saw', 'tlj', 'really', 'feel', 'disappointed', 'nt', 'like', 'much', 'movie', 'leia', 'flying', 'air', 'rosefinn', 'story', 'line', 'rey', 'kylo', 'talking', 'even', 'though', 'planets', 'away', 'luke', 'way', 'giving', 'editing', 'chopping', 'nt', 'fan', 'purple', 'haired', 'character', 'nt', 'really', 'like', 'silly', 'plot', 'running', 'fuel', 'overall', 'liked', 'original', 'trilogy', 'problems', 'prequels', 'decent', 'many', 'respects', 'really', 'like', 'tfa', 'loved', 'rogue', 'one', 'excited', 'see', 'tlj', 'quite', 'disappointed', 'think', 'one', 'best', 'films', 'whole', 'movie', 'although', 'film', 'moments', 'becomes', 'weaker', 'forgiven', 'consider', 'film', 'whole', 'smart', 'movie', 'thought', 'film', 'good', 'however', 'thought', 'film', 'trilogy', 'story', 'fast', 'shown', 'told', 'us', 'snoke', 'luke', 'tried', 'rush', 'ben', 'solo', 'rey', 'storyline', 'fast', 'movie', 'would', 'made', 'better', 'film', 'believe', 'fans', 'mixed', 'film', 'going', 'hard', 'next', 'film', 'trilogy', 'get', 'good', 'story', 'going', 'understand', 'old', 'new', 'nt', 'like', 'transition', 'fans', 'build', 'snoke', 'snoke', 'scene', 'total', 'let', 'would', 'preferred', 'different', 'direction', 'luke', 'understand', 'pass', 'torch', 'didnt', 'work', 'since', 'never', 'seen', 'liea', 'use', 'force', 'powers', 'find', 'strange', 'powerful', 'must', 'survived', 'exposure', 'space', 'fly', 'space', 'always', 'cool', 'see', 'yoda', 'actually', 'thought', 'good', 'star', 'wars', 'film', 'actual', 'fan', 'franchise', 'nt', 'know', 'basic', 'points', 'star', 'wars', 'story', 'rey', 'skywalker', 'bloodline', 'yes', 'dont', 'care', 'spoiled', 'pretty', 'rotten', 'point', 'spoiled', 'imo', 'make', 'whole', 'lot', 'sense', 'taking', 'unprecedented', 'connection', 'force', 'account', 'seemed', 'take', 'place', 'fan', 'base', 'good', 'idea', 'rey', 'skywalker', 'blood', 'snoke', 'may', 'darth', 'plagueis', 'may', 'fact', 'story', 'going', 'heard', 'franchise', 'getting', 'another', 'trilogy', 'however', 'things', 'stripped', 'sake', 'dodging', 'predictability', 'ideas', 'miles', 'ahead', 'actually', 'took', 'place', 'snoke', 'one', 'rey', 'one', 'nt', 'even', 'try', 'put', 'depth', 'plot', 'rian', 'johnson', 'half', 'hours', 'social', 'justice', 'propaganda', 'rey', 'woman', 'nothing', 'absolutely', 'everything', 'even', 'means', 'destroying', 'greatest', 'film', 'franchise', 'humanity', 'ever', 'known', 'thanks', 'nt', 'think', 'deeply', 'plot', 'characterizations', 'foundation', 'laid', 'previous', 'star', 'wars', 'movies', 'cartoons', 'could', 'ay', 'enjoyable', 'roller', 'coaster', 'ride', 'starshowever', 'critically', 'thinking', 'star', 'wars', 'fan', 'may', 'well', 'aware', 'following', 'issues', 'even', 'stars', 'generous', 'rating', 'due', 'continuity', 'problems', 'sloppy', 'writing', 'spoilers', 'ahead', 'first', 'order', 'sizeable', 'enough', 'mop', 'operations', 'across', 'galaxy', 'said', 'opening', 'crawl', 'lacked', 'second', 'fleet', 'basically', 'intercept', 'pincer', 'move', 'weak', 'resistance', 'fleet', 'tfa', 'introduced', 'force', 'powers', 'could', 'freeze', 'laser', 'beam', 'mid', 'air', 'slso', 'engaging', 'force', 'choking', 'force', 'acts', 'yet', 'leia', 'could', 'freeze', 'shot', 'going', 'bridge', 'thereby', 'saving', 'ackbar', 'rest', 'snoke', 'could', 'bend', 'blade', 'saber', 'suffering', 'mortal', 'wound', 'last', 'jedi', 'concerned', 'terms', 'movie', 'run', 'time', 'finding', 'code', 'breaker', 'end', 'slow', 'speed', 'chase', 'oh', 'nt', 'know', 'explaining', 'force', 'sensitivity', 'jedi', 'one', 'line', 'jedi', 'nt', 'force', 'knights', 'ren', 'movie', 'even', 'flashbacks', 'destruction', 'jedi', 'temple', 'since', 'supposedly', 'according', 'tfa', 'look', 'movie', 'make', 'sure', 'praetorian', 'guard', 'knights', 'ren', 'better', 'outfits', 'expected', 'luke', 'yoda', 'least', 'explain', 'existence', 'snoke', 'least', 'make', 'reference', 'sith', 'rule', 'two', 'another', 'bit', 'hubris', 'lies', 'jedi', 'bought', 'considering', 'simultaneous', 'existence', 'maul', 'dooku', 'grevious', 'well', 'vader', 'inquisitors', 'spider', 'maul', 'well', 'era', 'snoke', 'kylo', 'rest', 'knights', 'ren', 'rule', 'two', 'sith', 'even', 'suggestion', 'lucas', 'never', 'mind', 'darth', 'maul', 'could', 'survive', 'chopped', 'half', 'according', 'star', 'wars', 'canon', 'kylo', 'aware', 'b', 'weak', 'snoke', 'sith', 'apprentice', 'could', 'survive', 'master', 'could', 'luke', 'convinced', 'could', 'turn', 'father', 'back', 'light', 'death', 'millions', 'hand', 'convinced', 'inability', 'turn', 'dark', 'leaning', 'apprentice', 'back', 'light', 'nothing', 'really', 'bad', 'point', 'instead', 'need', 'murder', 'light', 'saber', 'rather', 'force', 'choking', 'sleep', 'focusing', 'turning', 'back', 'like', 'powerful', 'daddy', 'old', 'jedi', 'adage', 'ca', 'nt', 'turn', 'back', 'fallen', 'apprentice', 'play', 'luke', 'going', 'help', 'resistancerebels', 'nt', 'hitch', 'ride', 'falcon', 'force', 'projection', 'closer', 'less', 'straining', 'range', 'might', 'kill', 'would', 'rebels', 'engineer', 'base', 'known', 'back', 'door', 'could', 'nt', 'leia', 'kylo', 'sense', 'luke', 'crystal', 'foxes', 'could', 'hordo', 'good', 'general', 'take', 'one', 'first', 'cruisers', 'smash', 'first', 'order', 'fleet', 'light', 'speed', 'preserve', 'rest', 'fleet', 'unless', 'rose', 'last', 'jedi', 'run', 'time', 'devoted', 'plot', 'idk', 'luke', 'rey', 'since', 'either', 'technically', 'may', 'considered', 'last', 'jedi', 'points', 'sloppy', 'ass', 'writing', 'poor', 'continuity', 'checks', 'disney', 'still', 'riann', 'johnson', 'write', 'next', 'trilogy', 'skipping', 'poorly', 'plotted', 'film', 'force', 'awakens', 'han', 'angrily', 'tells', 'finn', 'force', 'works', 'watching', 'last', 'jedi', 'found', 'similarly', 'flabbergasted', 'mary', 'poppins', 'leia', 'slot', 'coin', 'machine', 'gun', 'luke', 'skywalker', 'interested', 'showing', 'rey', 'milks', 'aliens', 'listening', 'sister', 'needs', 'help', 'son', 'helped', 'drive', 'dark', 'side', 'obi', 'wan', 'went', 'hiding', 'purpose', 'one', 'day', 'training', 'luke', 'fox', 'mistakes', 'part', 'luke', 'went', 'hiding', 'allow', 'mistakes', 'fester', 'new', 'empire', 'killing', 'loves', 'waste', 'story', 'interesting', 'storylines', 'overall', 'amazing', 'needs', 'second', 'third', 'viewing', 'catch', 'nuances', 'average', 'star', 'wars', 'visually', 'great', 'scenes', 'hands', 'pretty', 'much', 'story', 'nt', 'seem', 'right', 'star', 'wars', 'movie', 'nothing', 'seemed', 'right', 'disapointed', 'plot', 'long', 'movie', 'felt', 'kind', 'empty', 'hoping', 'make', 'next', 'one', 'absolutely', 'worst', 'star', 'wars', 'movie', 'thought', 'tfa', 'bad', 'goes', 'beyond', 'many', 'pointless', 'scenes', 'horrible', 'plots', 'luke', 'skywalker', 'pretty', 'painful', 'year', 'olds', 'helped', 'keep', 'franchise', 'popular', 'decades', 'absolutely', 'punch', 'stomach', 'good', 'riddance', 'disney', 'star', 'wars', 'nt', 'care', 'anymore', 'expected', 'great', 'movie', 'resets', 'star', 'wars', 'universe', 'opens', 'new', 'possibilities', 'bad', 'people', 'say', 'far', 'far', 'worse', 'bad', 'star', 'wars', 'movie', 'bad', 'movie', 'period', 'makes', 'zero', 'sense', 'every', 'level', 'nt', 'even', 'know', 'start', 'save', 'money', 'watch', 'airs', 'free', 'tv', 'crap', 'like', 'watching', 'spaceballs', 'turned', 'star', 'wars', 'movie', 'progressive', 'parody', 'star', 'wars', 'used', 'liking', 'movie', 'means', 'probably', 'suffer', 'cognitive', 'dissonance', 'let', 'love', 'predisney', 'versions', 'allow', 'overlook', 'major', 'story', 'flaws', 'almost', 'entirely', 'new', 'child', 'like', 'disjointed', 'universe', 'loved', 'movie', 'maybe', 'favorite', 'whole', 'saga', 'height', 'esb', 'really', 'liked', 'way', 'rian', 'johnson', 'took', 'risks', 'pay', 'actually', 'felt', 'like', 'first', 'time', 'watched', 'esb', 'second', 'screening', 'loved', 'see', 'children', 'talking', 'amazing', 'movie', 'enjoyed', 'star', 'wars', 'loved', 'movie', 'inspiring', 'surprising', 'loved', 'fact', 'actually', 'made', 'characters', 'human', 'flawless', 'heroes', 'everyone', 'make', 'mistake', 'fairytale', 'let', 'leave', 'kids', 'even', 'mighty', 'luke', 'skywalker', 'get', 'scared', 'makes', 'mistakes', 'young', 'heroes', 'like', 'poe', 'rey', 'finn', 'must', 'grow', 'learn', 'leading', 'rebellion', 'actual', 'movie', 'gives', 'new', 'perspective', 'characters', 'love', 'fan', 'capital', 'letters', 'cause', 'saw', 'movies', 'countless', 'times', 'read', 'novels', 'appreciate', 'maybe', 'others', 'riot', 'made', 'also', 'petition', 'remake', 'movie', 'read', 'books', 'old', 'trilogy', 'spoiler', 'luke', 'human', 'normal', 'guy', 'flawless', 'god', 'loved', 'movie', 'thought', 'great', 'storyline', 'keeping', 'successful', 'formula', 'star', 'wars', 'good', 'side', 'always', 'victorious', 'would', 'hope', 'enough', 'make', 'progress', 'evil', 'silly', 'less', 'focused', 'force', 'awakens', 'last', 'jedi', 'offers', 'many', 'entertaining', 'dramatic', 'moments', 'ultimately', 'fails', 'star', 'wars', 'film', 'give', 'main', 'characters', 'real', 'substance', 'work', 'continuing', 'best', 'writing', 'films', 'without', 'writing', 'hoping', 'cinematography', 'makes', 'many', 'us', 'mostly', 'story', 'esb', 'resequenced', 'top', 'humor', 'mich', 'great', 'moments', 'enough', 'bad', 'plot', 'rogue', 'one', 'set', 'bar', 'falls', 'miserably', 'short', 'best', 'line', 'vader', 'child', 'mask', 'pretty', 'much', 'sums', 'kylo', 'rest', 'movie', 'big', 'pretender', 'movie', 'ruined', 'everything', 'force', 'awakens', 'building', 'concepts', 'original', 'films', 'ruined', 'many', 'questions', 'people', 'tfa', 'left', 'unanswered', 'extremely', 'dissatisfying', 'film', 'good', 'however', 'star', 'wars', 'film', 'awful', 'perfect', 'film', 'disappointed', 'force', 'awakens', 'utterly', 'satisfying', 'takes', 'franchise', 'new', 'directions', 'still', 'feeling', 'like', 'star', 'wars', 'walked', 'theater', 'reexperiencing', 'feeling', 'awe', 'kid', 'seeing', 'new', 'hope', 'perfect', 'film', 'disappointed', 'force', 'awakens', 'utterly', 'satisfying', 'takes', 'franchise', 'new', 'directions', 'still', 'feeling', 'like', 'star', 'wars', 'walked', 'theater', 'reexperiencing', 'feeling', 'awe', 'kid', 'seeing', 'new', 'hope', 'plot', 'holes', 'mishandling', 'key', 'star', 'wars', 'universe', 'characters', 'poor', 'new', 'character', 'set', 'introduction', 'poor', 'writing', 'f', 'really', 'enjoy', 'watching', 'movie', 'funny', 'moments', 'excitement', 'emotional', 'scene', 'need', 'star', 'wars', 'fan', 'movie', 'wow', 'really', 'love', 'really', 'liked', 'rian', 'johnson', 'made', 'epic', 'really', 'enjoyed', 'despite', 'set', 'first', 'film', 'nt', 'seem', 'matter', 'second', 'felt', 'little', 'like', 'game', 'thrones', 'might', 'see', 'origins', 'snoke', 'nope', 'nt', 'matter', 'kids', 'loved', 'kept', 'enthralled', 'slightly', 'average', 'lots', 'slapstick', 'reason', 'ever', 'constant', 'going', 'oh', 'wait', 'miracle', 'oh', 'never', 'mind', 'still', 'going', 'die', 'pace', 'gets', 'old', 'really', 'quick', 'movie', 'need', 'many', 'moments', 'anxiety', 'good', 'liked', 'ren', 'reys', 'development', 'lukes', 'death', 'silly', 'could', 'easily', 'meditating', 'hologram', 'ren', 'actually', 'kill', 'would', 'brought', 'meaning', 'purpose', 'pretty', 'unbelievable', 'snoke', 'seemingly', 'year', 'old', 'bad', 'guy', 'using', 'force', 'years', 'according', 'sith', 'work', 'death', 'nt', 'bother', 'like', 'movie', 'sort', 'fell', 'flat', 'good', 'moments', 'sure', 'least', 'hour', 'unneeded', 'film', 'could', 'replaced', 'substance', 'spoilers', 'many', 'plot', 'holes', 'taken', 'enjoyment', 'movie', 'dreadnought', 'shields', 'easy', 'destroy', 'large', 'ships', 'jumping', 'light', 'speed', 'thru', 'one', 'done', 'ships', 'auto', 'pilot', 'instruct', 'droid', 'fly', 'ship', 'admiral', 'holdo', 'go', 'ship', 'nt', 'leia', 'unconscious', 'long', 'enough', 'void', 'space', 'died', 'force', 'powers', 'kicked', 'finn', 'target', 'atats', 'one', 'shot', 'going', 'cannon', 'drag', 'body', 'back', 'base', 'atats', 'got', 'phasma', 'used', 'casino', 'subplot', 'really', 'dragged', 'movie', 'obviously', 'pushing', 'political', 'message', 'annoying', 'accomplished', 'nothing', 'besides', 'introducing', 'dj', 'assuming', 'bigger', 'part', 'next', 'movie', 'snoke', 'guess', 'never', 'know', 'ray', 'talented', 'force', 'lightsaber', 'little', 'training', 'sure', 'got', 'luke', 'movie', 'much', 'leave', 'edge', 'comes', 'next', 'seeing', 'next', 'installment', 'star', 'wars', 'last', 'jedi', 'disappointment', 'introduction', 'litany', 'new', 'characters', 'came', 'expense', 'advancing', 'storylines', 'sagas', 'existing', 'cast', 'moviegoers', 'fell', 'love', 'force', 'awakens', 'development', 'new', 'cast', 'felt', 'halfwitted', 'end', 'movie', 'failed', 'present', 'compelling', 'case', 'moviegoers', 'feel', 'emotional', 'connection', 'film', 'characters', 'despite', 'hour', 'run', 'time', 'clear', 'hollywood', 'stances', 'today', 'gender', 'racial', 'politics', 'played', 'major', 'part', 'film', 'plot', 'lines', 'lot', 'politically', 'agnostic', 'moviegoers', 'tend', 'look', 'past', 'minor', 'incidences', 'politically', 'motivated', 'screenplay', 'star', 'wars', 'last', 'jedi', 'took', 'drastic', 'steps', 'implement', 'political', 'motivations', 'film', 'glaring', 'example', 'motivations', 'interaction', 'poe', 'lauren', 'dern', 'character', 'amilyn', 'holdo', 'narrative', 'surrounding', 'interaction', 'felt', 'quite', 'patronizing', 'several', 'cliche', 'moments', 'film', 'even', 'prequel', 'movies', 'would', 'shied', 'away', 'first', 'installment', 'disney', 'star', 'wars', 'reboot', 'created', 'high', 'hopes', 'second', 'film', 'unfortunately', 'star', 'wars', 'last', 'jedi', 'failed', 'live', 'expectations', 'hope', 'third', 'film', 'stronger', 'character', 'development', 'avoids', 'delving', 'politically', 'motivated', 'screenplay', 'terrible', 'plot', 'lots', 'holes', 'inconsistencies', 'diversity', 'clearly', 'great', 'problem', 'point', 'poorly', 'written', 'movie', 'grab', 'money', 'terrible', 'disney', 'laughs', 'face', 'lore', 'built', 'decades', 'star', 'wars', 'plot', 'paper', 'thin', 'swearing', 'humour', 'jokes', 'shout', 'marvel', 'dinsey', 'star', 'wars', 'also', 'features', 'ridiculous', 'mary', 'poppinsesque', 'scene', 'ever', 'included', 'star', 'wars', 'universe', 'sad', 'times', 'force', 'film', 'newer', 'progressive', 'fans', 'may', 'enjoy', 'last', 'jedi', 'loyalists', 'original', 'trilogy', 'quite', 'disappointment', 'jj', 'abrams', 'able', 'ride', 'forgiving', 'wave', 'fannostalgia', 'disney', 'released', 'entry', 'force', 'awakens', 'sure', 'plot', 'seemed', 'bit', 'familiar', 'bit', 'rehash', 'things', 'seen', 'however', 'storytelling', 'potential', 'setup', 'force', 'awakens', 'enough', 'forgive', 'lack', 'originality', 'years', 'intriguing', 'questions', 'posed', 'force', 'awakens', 'poorly', 'answered', 'last', 'jedi', 'biggest', 'mysterious', 'poorly', 'handled', 'done', 'careless', 'way', 'bucking', 'audience', 'expectations', 'additionally', 'problems', 'force', 'awakens', 'magnified', 'tremendously', 'director', 'rian', 'johnson', 'last', 'jedi', 'borrows', 'heavily', 'empire', 'strikes', 'back', 'without', 'charm', 'jj', 'abrams', 'brought', 'force', 'awakens', 'credits', 'film', 'roll', 'may', 'left', 'wondering', 'star', 'wars', 'powerhouse', 'finally', 'run', 'steam', 'folks', 'disney', 'really', 'spend', 'time', 'creating', 'original', 'story', 'stands', 'independent', 'recycled', 'plots', 'themes', 'characters', 'last', 'jedi', 'hours', 'minutes', 'long', 'minutes', 'deep', 'narrative', 'spectacle', 'cgi', 'suspension', 'disbelief', 'falls', 'short', 'many', 'major', 'plot', 'points', 'deviate', 'drastically', 'characters', 'world', 'lucas', 'established', 'surprising', 'twists', 'twists', 'nt', 'make', 'sense', 'contradict', 'established', 'characterizations', 'lore', 'contradictions', 'occur', 'film', 'shields', 'vacuum', 'space', 'hyperdrive', 'force', 'etc', 'science', 'fiction', 'movie', 'movie', 'better', 'worse', 'others', 'star', 'wars', 'movie', 'disservice', 'franchise', 'plot', 'holes', 'irrelevant', 'subplots', 'lead', 'nowhere', 'insistence', 'comedic', 'relief', 'story', 'telling', 'worst', 'thats', 'even', 'going', 'way', 'handled', 'characters', 'star', 'wars', 'universe', 'visuals', 'amazing', 'sound', 'engineering', 'great', 'almost', 'everything', 'else', 'movie', 'made', 'hard', 'take', 'seriously', 'dialogue', 'stiff', 'strange', 'plot', 'engaging', 'movie', 'lacked', 'form', 'serious', 'conflict', 'last', 'jedi', 'waste', 'hours', 'simply', 'could', 'made', 'movie', 'better', 'decent', 'still', 'better', 'empire', 'strikes', 'back', 'ironically', 'par', 'return', 'jedi', 'simply', 'nt', 'understand', 'logic', 'nonphysical', 'form', 'luke', 'skywalker', 'going', 'forward', 'never', 'got', 'see', 'luke', 'skywalker', 'using', 'lightsaber', 'true', 'jedi', 'master', 'using', 'full', 'power', 'force', 'leads', 'ponder', 'screenwriters', 'story', 'writers', 'clue', 'saga', 'skywalker', 'family', 'movie', 'wanted', 'see', 'technically', 'beautifully', 'shot', 'movie', 'couple', 'homages', 'star', 'wars', 'know', 'love', 'wasteful', 'noninspiring', 'story', 'understand', 'logic', 'skywalker', 'movie', 'sure', 'make', 'fans', 'upset', 'movie', 'cured', 'standing', 'line', 'opening', 'night', 'latest', 'star', 'wars', 'movie', 'done', 'since', 'years', 'old', 'original', 'star', 'wars', 'new', 'hope', 'opened', 'feel', 'like', 'writerdirector', 'nt', 'care', 'audience', 'felt', 'time', 'wasted', 'huge', 'chunks', 'movie', 'nothing', 'plot', 'see', 'next', 'movie', 'wo', 'nt', 'rush', 'see', 'movie', 'completely', 'annihilated', 'beloved', 'franchise', 'agonizing', 'life', 'without', 'use', 'jarjar', 'binks', 'feat', 'previously', 'thought', 'impossible', 'comfort', 'least', 'people', 'wo', 'nt', 'say', 'episodes', 'bad', 'episode', 'compare', 'movie', 'turned', 'one', 'greatest', 'characters', 'alien', 'milking', 'maniac', 'princess', 'leia', 'magically', 'fly', 'space', 'like', 'xwing', 'powerful', 'snoke', 'get', 'killed', 'teen', 'lost', 'light', 'saber', 'battle', 'someone', 'zero', 'training', 'imagine', 'every', 'fans', 'worst', 'fears', 'disney', 'taking', 'franchise', 'multiply', 'materialized', 'screen', 'kylo', 'said', 'let', 'die', 'kill', 'talking', 'star', 'wars', 'legacy', 'movie', 'unquestioningly', 'satisfies', 'objective', 'movie', 'terrible', 'plot', 'acters', 'suck', 'sorry', 'say', 'walt', 'disney', 'movie', 'money', 'would', 'come', 'bye', 'hard', 'core', 'fans', 'shit', 'use', 'pile', 'garbage', 'sorry', 'say', 'movie', 'terrible', 'please', 'get', 'jj', 'abrams', 'back', 'fast', 'top', 'plot', 'holes', 'people', 'brought', 'cheesy', 'sorry', 'mark', 'good', 'actor', 'really', 'bad', 'understand', 'didnt', 'talk', 'last', 'one', 'bad', 'guy', 'snoke', 'looked', 'like', 'cartoon', 'character', 'movie', 'felt', 'like', 'cartoon', 'long', 'needs', 'elements', 'realism', 'get', 'people', 'years', 'olds', 'engaged', 'barf', 'felt', 'cheated', 'watching', 'rian', 'make', 'childrens', 'movies', 'pixar', 'something', 'stay', 'mythology', 'many', 'political', 'plot', 'elements', 'seemed', 'descriptive', 'disney', 'culture', 'political', 'correct', 'behavior', 'forced', 'prove', 'point', 'falls', 'flat', 'specifically', 'escape', 'sequence', 'descriptive', 'dysfunctional', 'culture', 'like', 'empire', 'errrrr', 'disney', 'also', 'nt', 'expect', 'see', 'mary', 'poppins', 'place', 'erupted', 'laughter', 'including', 'year', 'old', 'folks', 'next', 'finally', 'luke', 'went', 'fire', 'become', 'mature', 'man', 'think', 'obi', 'yet', 'made', 'broken', 'recluse', 'swimming', 'vain', 'regrets', 'uninteresting', 'chickened', 'perfect', 'deaths', 'leia', 'finn', 'nt', 'give', 'crap', 'characters', 'captain', 'phasma', 'decent', 'villain', 'quite', 'good', 'actually', 'gave', 'like', 'five', 'minutes', 'die', 'peter', 'cushing', 'need', 'jokes', 'bad', 'place', 'although', 'good', 'moments', 'like', 'initial', 'bombing', 'run', 'duel', 'last', 'jedi', 'movie', 'huge', 'disappointment', 'waste', 'thirteen', 'dollars', 'visually', 'impressive', 'great', 'performances', 'horrible', 'writing', 'expected', 'rian', 'johnson', 'disney', 'valid', 'criticisms', 'movie', 'overall', 'enjoyable', 'movie', 'worthy', 'star', 'wars', 'name', 'wrote', 'bad', 'script', 'filmed', 'helplessly', 'logically', 'sharknado', 'makes', 'much', 'sense', 'bmovie', 'without', 'explicit', 'spoilers', 'thing', 'loved', 'movie', 'convinced', 'know', 'going', 'happen', 'something', 'else', 'happens', 'sometimes', 'multiple', 'layers', 'freshest', 'star', 'wars', 'since', 'episode', 'vi', 'one', 'going', 'get', 'better', 'time', 'worst', 'starwars', 'movie', 'entire', 'series', 'everything', 'luke', 'skywalker', 'character', 'fanboy', 'luke', 'expectation', 'luke', 'canon', 'character', 'example', 'luke', 'sees', 'light', 'vader', 'man', 'kills', 'children', 'entire', 'planets', 'sees', 'enough', 'evil', 'kylo', 'try', 'kill', 'worst', 'sw', 'movie', 'ever', 'disney', 'shit', 'luke', 'character', 'hopes', 'raising', 'rey', 'kylo', 'kylo', 'rey', 'suck', 'way', 'kill', 'sw', 'disney', 'nice', 'job', 'star', 'wars', 'last', 'jedi', 'one', 'best', 'star', 'wars', 'movies', 'moves', 'forward', 'story', 'line', 'brings', 'new', 'characters', 'characterizes', 'old', 'ones', 'episode', 'vii', 'star', 'wars', 'movies', 'shows', 'us', 'new', 'planets', 'galaxy', 'makes', 'ship', 'battles', 'interesting', 'biggest', 'problem', 'film', 'plot', 'holes', 'regardless', 'die', 'hard', 'fans', 'casual', 'movie', 'goers', 'feel', 'star', 'wars', 'rich', 'legacy', 'lore', 'many', 'plot', 'holes', 'willingly', 'suspend', 'disbelief', 'quite', 'achievement', 'film', 'franchise', 'set', 'space', 'variety', 'alien', 'characters', 'encompassing', 'mystical', 'energy', 'characters', 'make', 'decisions', 'nt', 'make', 'sense', 'even', 'people', 'nt', 'know', 'characters', 'well', 'entire', 'side', 'quest', 'sequence', 'self', 'indulgent', 'nonsensical', 'massively', 'detracts', 'interesting', 'drama', 'happening', 'elsewhere', 'film', 'another', 'issue', 'lot', 'humour', 'lands', 'flat', 'example', 'jokes', 'lands', 'nothing', 'context', 'jokes', 'funny', 'moments', 'either', 'jokes', 'unfunny', 'serves', 'detract', 'drama', 'developing', 'character', 'arcs', 'interesting', 'well', 'thought', 'enough', 'save', 'movie', 'arcs', 'development', 'lazy', 'hacky', 'certainly', 'dameron', 'poe', 'arc', 'uninteresting', 'stereotypical', 'potentially', 'interesting', 'character', 'feels', 'like', 'tack', 'universe', 'make', 'another', 'loveable', 'rogue', 'character', 'action', 'sequences', 'well', 'executed', 'feel', 'impressive', 'otherwise', 'flat', 'lifeless', 'moments', 'last', 'film', 'almost', 'saves', 'movie', 'goes', 'great', 'lengths', 'avoid', 'previously', 'established', 'ideas', 'contonuity', 'tragically', 'plot', 'holes', 'throughout', 'last', 'part', 'film', 'detract', 'otherwise', 'good', 'moments', 'built', 'well', 'executed', 'lukes', 'final', 'scenes', 'certainly', 'enough', 'raise', 'stakes', 'cause', 'goosebumps', 'action', 'plot', 'going', 'around', 'impactful', 'moments', 'make', 'largely', 'irrelevant', 'score', 'stands', 'always', 'overall', 'good', 'moments', 'nt', 'enough', 'save', 'mess', 'movie', 'caused', 'significant', 'amount', 'furrowed', 'brows', 'audible', 'screening', 'went', 'included', 'disappointing', 'addition', 'promising', 'start', 'mark', 'hamill', 'great', 'script', 'much', 'writer', 'clearly', 'understanding', 'original', 'characters', 'blatantly', 'destroyed', 'spite', 'fans', 'luke', 'skywalker', 'worst', 'star', 'wars', 'ever', 'second', 'maybe', 'attack', 'clones', 'ca', 'nt', 'believe', 'messed', 'one', 'badly', 'many', 'people', 'involved', 'making', 'next', 'installment', 'important', 'franchise', 'see', 'problems', 'script', 'rough', 'cut', 'loss', 'words', 'disappointed', 'making', 'films', 'people', 'love', 'good', 'story', 'anymore', 'making', 'children', 'exactly', 'every', 'single', 'character', 'acts', 'film', 'subplots', 'go', 'nowhere', 'tone', 'usually', 'completely', 'unfitting', 'characters', 'like', 'finn', 'rey', 'poe', 'virtually', 'character', 'development', 'luke', 'neither', 'hero', 'mentor', 'character', 'sad', 'laura', 'dern', 'playing', 'admiral', 'holdo', 'simply', 'nt', 'fit', 'star', 'wars', 'universe', 'sorry', 'several', 'plot', 'points', 'previously', 'set', 'tfa', 'either', 'flat', 'ignoredreplacedor', 'summed', 'underwhelmingsweepitundertherug', 'ways', 'jokes', 'words', 'nt', 'feel', 'like', 'would', 'happen', 'star', 'wars', 'universe', 'mean', 'godspeed', 'forte', 'come', 'entire', 'cgiheavy', 'casino', 'land', 'seems', 'like', 'irrelevant', 'subplot', 'island', 'worst', 'kind', 'reminiscent', 'pod', 'racing', 'tpm', 'many', 'things', 'awful', 'even', 'try', 'forget', 'everything', 'know', 'star', 'wars', 'look', 'tlj', 'would', 'almost', 'consider', 'okay', 'disney', 'movie', 'reality', 'hits', 'consider', 'legacy', 'precedes', 'tlj', 'terrible', 'embarrassment', 'star', 'wars', 'family', 'tree', 'problems', 'changes', 'made', 'many', 'consider', 'star', 'wars', 'cannon', 'problem', 'poor', 'character', 'development', 'pacing', 'film', 'example', 'new', 'character', 'rose', 'could', 'completely', 'replaced', 'dj', 'code', 'breaker', 'del', 'toro', 'character', 'would', 'set', 'phase', 'tech', 'rebels', 'using', 'escape', 'pods', 'saved', 'entire', 'casinoalien', 'horse', 'subplot', 'subplot', 'felt', 'rushed', 'worthwhile', 'instead', 'would', 'given', 'dj', 'character', 'time', 'build', 'exciting', 'heist', 'type', 'feeling', 'try', 'shut', 'tracker', 'make', 'betrayal', 'later', 'feel', 'like', 'actual', 'betrayal', 'charter', 'cool', 'unique', 'motivations', 'sketchy', 'say', 'least', 'help', 'escape', 'prison', 'infiltrate', 'first', 'order', 'ship', 'turn', 'around', 'betray', 'willing', 'help', 'first', 'place', 'nt', 'make', 'logical', 'sense', 'also', 'point', 'rey', 'going', 'black', 'hole', 'touching', 'black', 'wall', 'accomplish', 'guess', 'felt', 'like', 'trying', 'touch', 'scene', 'luck', 'meets', 'vader', 'swamp', 'nearly', 'clear', 'impactful', 'another', 'problem', 'struggle', 'lightsaber', 'explodes', 'opens', 'kylo', 'waking', 'general', 'saying', 'oh', 'yeah', 'stole', 'ship', 'bolted', 'kind', 'like', 'yeah', 'saw', 'making', 'break', 'like', 'meh', 'appears', 'back', 'falcon', 'way', 'choppy', 'lazy', 'need', 'know', 'film', 'one', 'point', 'friends', 'terrible', 'danger', 'dying', 'failed', 'mission', 'rose', 'finn', 'take', 'saddle', 'space', 'horse', 'proclaim', 'worth', 'full', 'plot', 'holes', 'forced', 'comedy', 'cheesy', 'gotcha', 'moments', 'last', 'jedi', 'abandons', 'every', 'good', 'storyline', 'established', 'force', 'awakens', 'leaves', 'avid', 'star', 'wars', 'fans', 'funk', 'wondering', 'long', 'held', 'notions', 'force', 'jedi', 'seemingly', 'mocked', 'almost', 'forced', 'barrage', 'failed', 'humor', 'film', 'designed', 'commercial', 'piece', 'stand', 'independent', 'film', 'rather', 'trying', 'fit', 'storyline', 'franchise', 'left', 'mess', 'jj', 'abrams', 'uphill', 'battle', 'overcome', 'episode', 'iv', 'visually', 'getting', 'spoiled', 'awesome', 'cgi', 'story', 'however', 'disappointment', 'new', 'characters', 'great', 'overall', 'arc', 'story', 'bastardized', 'disney', 'desire', 'keep', 'making', 'movies', 'luke', 'key', 'character', 'likability', 'took', 'hit', 'movie', 'series', 'skywalkers', 'feels', 'like', 'nt', 'care', 'based', 'character', 'assassination', 'end', 'way', 'ended', 'move', 'new', 'stories', 'example', 'thought', 'rouge', 'one', 'wonderful', 'nt', 'cause', 'issues', 'skywalker', 'saga', 'wrong', 'many', 'levels', 'surprisinig', 'twists', 'layered', 'deep', 'story', 'beautiful', 'visuals', 'overall', 'good', 'movie', 'star', 'wars', 'last', 'jedi', 'honors', 'rich', 'mythology', 'legacy', 'franchise', 'also', 'turning', 'star', 'wars', 'schematic', 'head', 'installment', 'takes', 'huge', 'risks', 'challenges', 'viewer', 'well', 'open', 'new', 'doors', 'future', 'franchise', 'better', 'worse', 'star', 'wars', 'evolved', 'gone', 'stages', 'movie', 'first', 'loving', 'hating', 'excepting', 'within', 'days', 'watching', 'say', 'good', 'star', 'wars', 'film', 'struggle', 'philosophy', 'however', 'think', 'point', 'believe', 'movie', 'deconstruction', 'moving', 'first', 'feels', 'bit', 'like', 'slap', 'face', 'time', 'get', 'han', 'luke', 'liea', 'going', 'around', 'forever', 'stories', 'needed', 'passed', 'think', 'best', 'line', 'comes', 'del', 'toro', 'explain', 'film', 'nt', 'know', 'maybe', 'right', 'describes', 'perfectly', 'conflict', 'film', 'struggle', 'jedi', 'force', 'difference', 'heroic', 'sacrifice', 'suicide', 'killing', 'think', 'mistakes', 'missteps', 'believe', 'film', 'deserves', 'praise', 'feel', 'disturbance', 'force', 'movie', 'light', 'saber', 'fight', 'one', 'really', 'good', 'fight', 'scene', 'would', 'least', 'somewhat', 'saved', 'movie', 'instead', 'kylo', 'rey', 'fighting', 'faceless', 'guards', 'neither', 'use', 'telekinesis', 'powers', 'rotten', 'tomatoes', 'critics', 'complete', 'sell', 'outs', 'way', 'mediocre', 'disney', 'abomination', 'get', 'rating', 'one', 'called', 'critics', 'would', 'raise', 'voice', 'cookie', 'cutter', 'plot', 'cliche', 'script', 'lifeless', 'acting', 'around', 'complete', 'joke', 'insult', 'intelligence', 'audience', 'exactly', 'one', 'scene', 'complete', 'overused', 'cliche', 'really', 'need', 'christopher', 'nolan', 'real', 'director', 'pick', 'movie', 'file', 'avengers', 'pirates', 'bs', 'star', 'wars', 'movie', 'deserve', 'thrilled', 'force', 'awakens', 'new', 'characters', 'return', 'old', 'storyline', 'boring', 'felt', 'like', 'death', 'star', 'getting', 'third', 'stale', 'outing', 'old', 'characters', 'barely', 'changed', 'since', 'saw', 'last', 'return', 'jedi', 'made', 'fan', 'much', 'awe', 'material', 'love', 'originals', 'shone', 'homage', 'empire', 'strikes', 'back', 'rather', 'fresh', 'chapter', 'time', 'passed', 'characters', 'changed', 'end', 'nt', 'matter', 'much', 'tfa', 'beautiful', 'second', 'yellow', 'letters', 'started', 'crawl', 'screen', 'rian', 'johnson', 'attempt', 'star', 'wars', 'movie', 'many', 'reasons', 'success', 'setting', 'aside', 'new', 'worlds', 'new', 'creatures', 'porgs', 'glitter', 'critters', 'racegoatlynxes', 'refreshing', 'swathe', 'new', 'characters', 'played', 'women', 'people', 'colour', 'finally', 'core', 'movie', 'attention', 'failure', 'things', 'go', 'wrong', 'characters', 'mess', 'bad', 'choices', 'made', 'trust', 'betrayed', 'heroes', 'disappoint', 'legends', 'turn', 'illusion', 'things', 'nt', 'go', 'way', 'think', 'yet', 'hope', 'glad', 'hope', 'nt', 'stem', 'skywalker', 'dynasty', 'message', 'ordinary', 'people', 'rejected', 'girl', 'children', 'nobodies', 'resist', 'lead', 'bring', 'empires', 'characters', 'literally', 'burn', 'destroy', 'familiar', 'johnson', 'destroys', 'safe', 'formulaic', 'star', 'warsbynumbers', 'jj', 'abrams', 'lovingly', 'created', 'old', 'ways', 'dead', 'become', 'growing', 'force', 'rey', 'kylo', 'ren', 'last', 'jedi', 'johnson', 'stripped', 'away', 'cliche', 'predictability', 'idea', 'happen', 'episode', 'ix', 'happier', 'contain', 'spoilers', 'star', 'wars', 'last', 'jedi', 'directed', 'rian', 'johnson', 'luke', 'tells', 'rey', 'go', 'way', 'think', 'last', 'jedi', 'begins', 'straight', 'end', 'force', 'awakens', 'immediately', 'apparent', 'rian', 'vision', 'new', 'star', 'wars', 'put', 'big', 'screen', 'ambitious', 'film', 'franchise', 'date', 'settles', 'fantheories', 'strangled', 'every', 'star', 'wars', 'fan', 'past', 'two', 'years', 'simply', 'scrapping', 'seriously', 'liked', 'first', 'foremost', 'characters', 'bar', 'han', 'solo', 'return', 'epic', 'actionpacked', 'emotional', 'film', 'including', 'rey', 'finn', 'poe', 'general', 'leia', 'kylo', 'ren', 'appearing', 'briefly', 'end', 'force', 'awakens', 'finally', 'see', 'luke', 'old', 'rugged', 'isolated', 'jedi', 'simply', 'want', 'go', 'back', 'used', 'saying', 'time', 'jedi', 'end', 'also', 'introduced', 'trio', 'new', 'characters', 'rose', 'maintenance', 'worker', 'resistance', 'vice', 'admiral', 'amilyn', 'holdo', 'leading', 'officer', 'resistance', 'dj', 'codebreaker', 'thief', 'character', 'old', 'new', 'shining', 'moment', 'particular', 'visually', 'stunning', 'watch', 'kylo', 'ren', 'slicing', 'snoke', 'half', 'luke', 'lightsaber', 'holdo', 'sacrificing', 'life', 'escaping', 'resistance', 'ships', 'flying', 'command', 'ship', 'straight', 'first', 'order', 'fleet', 'lightspeed', 'silencing', 'film', 'audience', 'could', 'stare', 'awe', 'acting', 'best', 'ever', 'star', 'wars', 'movie', 'mark', 'hamill', 'luke', 'skywalker', 'late', 'carrie', 'fisher', 'leia', 'organa', 'highlights', 'department', 'action', 'spectacular', 'particularly', 'rey', 'kylo', 'teamup', 'snoke', 'rebels', 'escaping', 'first', 'order', 'fleet', 'panning', 'time', 'story', 'arc', 'rey', 'kylo', 'luke', 'incredibly', 'well', 'done', 'rey', 'planting', 'powerful', 'force', 'user', 'kylo', 'apprehensive', 'allegiance', 'light', 'dark', 'sides', 'reveal', 'rey', 'parentage', 'believe', 'well', 'done', 'came', 'surprise', 'certain', 'many', 'expecting', 'something', 'grandiose', 'dissatisfied', 'admittedly', 'however', 'many', 'star', 'wars', 'fans', 'find', 'revelations', 'events', 'irritating', 'conflicting', 'one', 'supreme', 'leader', 'snoke', 'simply', 'redherring', 'whole', 'time', 'though', 'death', 'shocking', 'somewhat', 'unwarranted', 'force', 'awakens', 'painted', 'ultimate', 'villain', 'similar', 'emperor', 'palpatine', 'killed', 'despite', 'whole', 'sequence', 'events', 'spanning', 'short', 'period', 'time', 'led', 'moment', 'suspenseful', 'thrilling', 'watch', 'immediate', 'teamup', 'rey', 'kylo', 'well', 'kamikaze', 'holdo', 'fleet', 'culminated', 'without', 'doubt', 'one', 'greatest', 'star', 'wars', 'moments', 'issues', 'nitpicky', 'include', 'captain', 'phasma', 'wasted', 'opportunity', 'known', 'boba', 'fett', 'current', 'trilogy', 'finn', 'rose', 'story', 'arc', 'weak', 'ensuing', 'romance', 'felt', 'forced', 'finn', 'rose', 'poe', 'know', 'call', 'maz', 'kanata', 'find', 'codebreaker', 'finn', 'met', 'barely', 'brief', 'moment', 'force', 'awakens', 'dj', 'know', 'escaping', 'rebel', 'ships', 'captured', 'know', 'many', 'found', 'leia', 'using', 'force', 'fly', 'space', 'farfetched', 'initially', 'found', 'weird', 'knowing', 'carrie', 'fisher', 'last', 'movie', 'leia', 'nice', 'see', 'using', 'force', 'sensitive', 'powers', 'numerous', 'times', 'lowest', 'point', 'last', 'jedi', 'canto', 'bight', 'point', 'really', 'entire', 'plot', 'find', 'codebreaker', 'utterly', 'pointless', 'eventuated', 'total', 'failure', 'introduced', 'nothing', 'relevant', 'rest', 'main', 'plot', 'end', 'found', 'less', 'qualified', 'thief', 'benicio', 'del', 'toro', 'dj', 'overall', 'star', 'wars', 'last', 'jedi', 'despite', 'weaknesses', 'aspects', 'one', 'best', 'franchise', 'equal', 'second', 'new', 'hope', 'behind', 'empire', 'strikes', 'back', 'many', 'negativity', 'comes', 'maybe', 'least', 'like', 'star', 'wars', 'movie', 'previously', 'many', 'complaints', 'fair', 'surprises', 'least', 'expecting', 'made', 'far', 'thoughtful', 'film', 'ambitious', 'take', 'universe', 'star', 'wars', 'refreshing', 'new', 'step', 'last', 'jedi', 'worth', 'watching', 'yesis', 'last', 'jedi', 'worthy', 'star', 'wars', 'canon', 'movie', 'hell', 'noi', 'try', 'articulate', 'points', 'spoilers', 'mark', 'hamill', 'gives', 'excellent', 'performance', 'likely', 'key', 'saved', 'film', 'others', 'hate', 'luke', 'skywalker', 'become', 'film', 'fine', 'director', 'choosing', 'commit', 'fan', 'service', 'character', 'luke', 'whiny', 'reactionary', 'man', 'star', 'wars', 'empire', 'strikes', 'back', 'gave', 'emotions', 'brief', 'bit', 'return', 'jedi', 'find', 'portrayal', 'last', 'jedi', 'well', 'within', 'bounds', 'character', 'rey', 'luke', 'kylo', 'characters', 'seem', 'depth', 'much', 'almost', 'feels', 'like', 'director', 'annoyed', 'include', 'characters', 'plot', 'decisions', 'made', 'echo', 'choices', 'made', 'one', 'interest', 'anything', 'happened', 'universe', 'poops', 'every', 'decision', 'made', 'question', 'invoked', 'force', 'awakens', 'example', 'kylo', 'cool', 'helmet', 'voice', 'get', 'rid', 'kylo', 'scar', 'move', 'rey', 'parents', 'answer', 'passing', 'maz', 'quick', 'mostly', 'meaningless', 'cameofinn', 'invent', 'new', 'character', 'send', 'away', 'spin', 'wheels', 'poe', 'give', 'onedimensional', 'dialogue', 'keep', 'busy', 'next', 'fight', 'hux', 'trivialize', 'competition', 'kylo', 'turn', 'toady', 'end', 'film', 'phasma', 'use', 'enough', 'include', 'marketing', 'get', 'rid', 'snoke', 'use', 'mcguffin', 'get', 'rid', 'hyperspace', 'track', 'also', 'use', 'destroy', 'entire', 'imperial', 'fleets', 'easily', 'kylo', 'torn', 'insides', 'yeah', 'kidding', 'totally', 'evil', 'one', 'dimensional', 'miniature', 'death', 'star', 'laser', 'difficulty', 'feet', 'metal', 'movie', 'made', 'typical', 'hollywood', 'director', 'nt', 'want', 'constrained', 'tradition', 'prior', 'choices', 'ongoing', 'saga', 'entire', 'finn', 'arc', 'seems', 'exist', 'director', 'could', 'show', 'boy', 'grabbing', 'broom', 'director', 'seems', 'dumbfounded', 'unable', 'anything', 'ensemble', 'characters', 'instinct', 'reduce', 'extended', 'cast', 'typical', 'film', 'tropes', 'eliminate', 'characters', 'entirely', 'plot', 'direction', 'seems', 'rushed', 'lazy', 'exception', 'luke', 'rey', 'arc', 'upset', 'movie', 'made', 'bad', 'choices', 'upset', 'star', 'wars', 'saga', 'traditionally', 'lore', 'storybuilding', 'movie', 'cookiecutter', 'blockbuster', 'really', 'nt', 'seem', 'care', 'came', 'either', 'comes']\n"
     ]
    }
   ],
   "source": [
    "print(good_list)"
   ]
  },
  {
   "cell_type": "code",
   "execution_count": 31,
   "metadata": {},
   "outputs": [
    {
     "name": "stdout",
     "output_type": "stream",
     "text": [
      "5635\n"
     ]
    }
   ],
   "source": [
    "print(len(good_list))"
   ]
  },
  {
   "cell_type": "code",
   "execution_count": 44,
   "metadata": {},
   "outputs": [],
   "source": [
    "np_ray = np.array(good_list)"
   ]
  },
  {
   "cell_type": "code",
   "execution_count": 45,
   "metadata": {},
   "outputs": [
    {
     "data": {
      "text/plain": [
       "(5635,)"
      ]
     },
     "execution_count": 45,
     "metadata": {},
     "output_type": "execute_result"
    }
   ],
   "source": [
    "np_ray.shape"
   ]
  },
  {
   "cell_type": "code",
   "execution_count": 33,
   "metadata": {},
   "outputs": [],
   "source": [
    "vectorizer = TfidfVectorizer()"
   ]
  },
  {
   "cell_type": "code",
   "execution_count": 34,
   "metadata": {},
   "outputs": [],
   "source": [
    "# Fitting the list"
   ]
  },
  {
   "cell_type": "code",
   "execution_count": 35,
   "metadata": {},
   "outputs": [
    {
     "data": {
      "text/plain": [
       "TfidfVectorizer(analyzer='word', binary=False, decode_error='strict',\n",
       "        dtype=<class 'numpy.int64'>, encoding='utf-8', input='content',\n",
       "        lowercase=True, max_df=1.0, max_features=None, min_df=1,\n",
       "        ngram_range=(1, 1), norm='l2', preprocessor=None, smooth_idf=True,\n",
       "        stop_words=None, strip_accents=None, sublinear_tf=False,\n",
       "        token_pattern='(?u)\\\\b\\\\w\\\\w+\\\\b', tokenizer=None, use_idf=True,\n",
       "        vocabulary=None)"
      ]
     },
     "execution_count": 35,
     "metadata": {},
     "output_type": "execute_result"
    }
   ],
   "source": [
    "vectorizer.fit(good_list)"
   ]
  },
  {
   "cell_type": "code",
   "execution_count": 37,
   "metadata": {},
   "outputs": [],
   "source": [
    "good_vect = vectorizer.vocabulary_"
   ]
  },
  {
   "cell_type": "code",
   "execution_count": 38,
   "metadata": {},
   "outputs": [
    {
     "ename": "AttributeError",
     "evalue": "'dict' object has no attribute 'shape'",
     "output_type": "error",
     "traceback": [
      "\u001b[1;31m---------------------------------------------------------------------------\u001b[0m",
      "\u001b[1;31mAttributeError\u001b[0m                            Traceback (most recent call last)",
      "\u001b[1;32m<ipython-input-38-d757a551cc38>\u001b[0m in \u001b[0;36m<module>\u001b[1;34m()\u001b[0m\n\u001b[1;32m----> 1\u001b[1;33m \u001b[0mgood_vect\u001b[0m\u001b[1;33m.\u001b[0m\u001b[0mshape\u001b[0m\u001b[1;33m\u001b[0m\u001b[0m\n\u001b[0m",
      "\u001b[1;31mAttributeError\u001b[0m: 'dict' object has no attribute 'shape'"
     ]
    }
   ],
   "source": [
    "good_vect.shape"
   ]
  },
  {
   "cell_type": "code",
   "execution_count": 66,
   "metadata": {},
   "outputs": [
    {
     "name": "stdout",
     "output_type": "stream",
     "text": [
      "{'complete': 321, 'disappointment': 464, 'pessimism': 1300, 'defeat': 410, 'supposed': 1738, 'message': 1110, 'star': 1683, 'wars': 1948, 'say': 1535, 'series': 1572, 'jumped': 930, 'shark': 1586, 'apt': 80, 'milked': 1121, 'space': 1654, 'walrusbummer': 1943, 'waste': 1950, 'ingredients': 886, 'everything': 575, 'good': 756, 'film': 657, 'yet': 2015, 'gets': 734, 'wrong': 2004, 'seeing': 1555, 'high': 814, 'praise': 1364, 'critical': 368, 'reviews': 1478, 'stunning': 1719, 'would': 1994, 'gotten': 761, 'easy': 512, 'ride': 1488, 'whilst': 1968, 'containing': 337, 'many': 1068, 'plot': 1325, 'pacing': 1266, 'issues': 919, 'richly': 1485, 'layered': 977, 'piece': 1308, 'storytelling': 1708, 'properly': 1391, 'takes': 1763, 'time': 1813, 'develop': 438, 'characters': 258, 'moves': 1155, 'us': 1906, 'right': 1490, 'long': 1027, 'deft': 411, 'twists': 1876, 'surprising': 1744, 'turns': 1873, 'fully': 716, 'satisfied': 1527, 'answers': 67, 'questions': 1405, 'left': 991, 'tfa': 1785, 'especially': 563, 'rey': 1479, 'parentage': 1276, 'resolution': 1469, 'makes': 1062, 'even': 569, 'remarkable': 1457, 'already': 50, 'seen': 1560, 'one': 1229, 'twice': 1875, 'opening': 1236, 'weekend': 1962, 'back': 115, 'catch': 238, 'missed': 1135, 'first': 671, 'go': 747, 'jedi': 923, 'ready': 1423, 'since': 1617, 'day': 397, 'may': 1087, 'bring': 198, 'episode': 554, 'ix': 921, 'hope': 831, 'deeply': 409, 'satisfying': 1529, 'music': 1165, 'effects': 516, 'cinematography': 284, 'throw': 1809, 'enough': 542, 'money': 1145, 'expected': 594, 'outcome': 1251, 'poorly': 1345, 'written': 2003, 'new': 1186, 'old': 1227, 'huge': 846, 'holes': 823, 'throughout': 1808, 'spoiler': 1669, 'onedimensional': 1230, 'chase': 261, 'slightly': 1630, 'faster': 636, 'ships': 1592, 'vs': 1936, 'galaxy': 723, 'controlling': 345, 'empire': 527, 'seriously': 1574, 'thought': 1802, 'better': 154, 'rian': 1482, 'johnson': 926, 'looper': 1031, 'okay': 1226, 'travel': 1851, 'movie': 1156, 'shows': 1605, 'lazy': 979, 'humour': 850, 'nt': 1212, 'work': 1984, 'smart': 1636, 'lot': 1036, 'character': 254, 'tone': 1824, 'scenes': 1540, 'marvellike': 1074, 'moneymaking': 1146, 'machine': 1053, 'refund': 1445, 'finished': 668, 'competent': 317, 'eadisney': 510, 'destroyed': 430, 'battlefront': 129, 'rjdisney': 1496, 'killed': 945, 'rip': 1493, 'absolute': 4, 'filth': 660, 'shame': 1584, 'disney': 469, 'trying': 1867, 'push': 1398, 'drivel': 502, 'story': 1704, 'motivations': 1152, 'make': 1061, 'sense': 1566, 'ever': 572, 'ruined': 1509, 'impossible': 869, 'abysmal': 6, 'force': 690, 'awakens': 107, 'see': 1554, 'action': 16, 'beginning': 140, 'end': 531, 'best': 150, 'ones': 1231, 'waiting': 1939, 'two': 1877, 'years': 2010, 'last': 966, 'buying': 213, 'ticket': 1812, 'came': 219, 'incredibly': 880, 'hard': 794, 'write': 1998, 'review': 1476, 'honestly': 828, 'still': 1698, 'shock': 1594, 'bad': 117, 'started': 1688, 'great': 767, 'soon': 1649, 'crashing': 358, 'completely': 322, 'understand': 1886, 'basically': 126, 'universe': 1895, 'dead': 399, 'generation': 730, 'born': 183, 'middle': 1117, 'trilogy': 1860, 'without': 1976, 'answering': 66, 'world': 1987, 'jj': 924, 'going': 753, 'besides': 149, 'die': 447, 'fans': 629, 'answered': 65, 'tons': 1825, 'things': 1796, 'cringe': 366, 'worthy': 1993, 'dialogue': 445, 'seemed': 1557, 'like': 1013, 'crayon': 360, 'think': 1797, 'sentences': 1569, 'made': 1054, 'words': 1983, 'also': 51, 'idea': 855, 'part': 1279, 'pokemon': 1337, 'well': 1964, 'oh': 1224, 'leia': 994, 'magically': 1056, 'fly': 683, 'come': 302, 'life': 1005, 'gon': 754, 'na': 1172, 'address': 28, 'hour': 842, 'literally': 1021, 'nothing': 1207, 'happened': 790, 'ship': 1591, 'slowly': 1634, 'chased': 262, 'running': 1513, 'fuel': 714, 'half': 780, 'year': 2009, 'kid': 940, 'never': 1185, 'fan': 625, 'spent': 1664, 'loving': 1042, 'watching': 1955, 'movies': 1158, 'hundreds': 851, 'times': 1816, 'merchandise': 1107, 'plain': 1316, 'sad': 1520, 'faith': 617, 'han': 784, 'solo': 1641, 'future': 721, 'congrats': 328, 'childhood': 272, 'almost': 47, 'phantom': 1303, 'menace': 1105, 'whole': 1971, 'rushed': 1515, 'acting': 15, 'dialog': 444, 'stale': 1676, 'comedy': 304, 'awkward': 113, 'wrongly': 2005, 'timed': 1814, 'plots': 1326, 'overdone': 1261, 'reused': 1473, 'complaining': 319, 'stuff': 1718, 'missing': 1136, 'books': 181, 'paying': 1289, 'attention': 97, 'got': 759, 'control': 344, 'released': 1452, 'statement': 1690, 'scrapping': 1545, 'cannon': 221, 'official': 1223, 'movieswhile': 1159, 'decision': 404, 'fact': 609, 'done': 485, 'amount': 57, 'bitching': 163, 'change': 250, 'factoverall': 610, 'worth': 1991, 'big': 156, 'screen': 1546, 'arguably': 83, 'worst': 1990, 'development': 441, 'way': 1957, 'terrible': 1782, 'hit': 818, 'mark': 1070, 'script': 1551, 'writing': 2002, 'masterpiece': 1081, 'comparison': 315, 'pile': 1309, 'garbage': 725, 'feel': 643, 'sorry': 1650, 'actors': 19, 'trash': 1849, 'awful': 112, 'start': 1687, 'finish': 667, 'storyline': 1706, 'ridiculous': 1489, 'parts': 1282, 'absolutely': 5, 'get': 733, 'fall': 620, 'flat': 678, 'ca': 215, 'anyone': 70, 'could': 354, 'enjoyed': 540, 'wo': 1977, 'disneymade': 471, 'films': 659, 'directly': 458, 'lifted': 1007, 'strikes': 1714, 'original': 1244, 'material': 1082, 'either': 517, 'bland': 166, 'outright': 1255, 'destroys': 433, 'hopeful': 832, 'magic': 1055, 'skywalker': 1624, 'clan': 285, 'previous': 1376, 'taking': 1764, 'fantastic': 630, 'direction': 456, 'love': 1038, 'date': 396, 'beautifully': 133, 'manages': 1066, 'pay': 1288, 'tribute': 1858, 'cements': 242, 'foundation': 704, 'something': 1643, 'entirely': 550, 'butchered': 212, 'lackluster': 959, 'pushing': 1399, 'political': 1339, 'agenda': 33, 'coming': 308, 'extremely': 603, 'dissapointed': 472, 'several': 1583, 'unfortunately': 1890, 'outweighs': 1257, 'set': 1577, 'along': 48, 'ruins': 1510, 'parents': 1277, 'apparently': 74, 'nobodies': 1194, 'learn': 986, 'snoke': 1638, 'luke': 1049, 'treated': 1852, 'gives': 740, 'unnecessary': 1897, 'finn': 669, 'rose': 1503, 'side': 1607, 'really': 1427, 'silly': 1611, 'laughable': 971, 'history': 817, 'fleet': 681, 'destroyers': 431, 'shooting': 1597, 'rebel': 1430, 'deploy': 417, 'bombers': 178, 'admiral': 29, 'holdo': 821, 'tell': 1775, 'poe': 1333, 'plan': 1317, 'evacuate': 568, 'instead': 895, 'letting': 1000, 'mutiny': 1167, 'perhaps': 1295, 'falls': 622, 'hours': 843, 'meeting': 1098, 'kisses': 950, 'point': 1334, 'adventure': 32, 'characterization': 255, 'letdown': 998, 'biggest': 158, 'crime': 365, 'committed': 313, 'kill': 944, 'anyway': 72, 'show': 1601, 'person': 1297, 'hologram': 825, 'care': 228, 'screwed': 1550, 'excellent': 580, 'fight': 653, 'scene': 1539, 'kylo': 956, 'ren': 1459, 'guards': 774, 'visuals': 1933, 'battles': 130, 'amazing': 54, 'potential': 1357, 'alot': 49, 'ultimately': 1881, 'went': 1965, 'certain': 244, 'abrams': 3, 'hands': 788, 'full': 715, 'able': 1, 'fix': 675, 'mess': 1109, 'created': 361, 'opera': 1238, 'bombastic': 177, 'special': 1658, 'lots': 1037, 'green': 769, 'annoying': 62, 'postfeminist': 1356, 'heroine': 812, 'deep': 407, 'mariana': 1069, 'trench': 1857, 'certainly': 245, 'utterly': 1912, 'disappointing': 463, 'rogue': 1497, 'terms': 1781, 'ranking': 1416, 'particularly': 1281, 'enthused': 548, 'mixed': 1141, 'feelings': 645, 'might': 1118, 'goal': 748, 'plenty': 1324, 'stylesgenres': 1722, 'watch': 1953, 'hoping': 835, 'challenged': 248, 'least': 987, 'seems': 1559, 'thumb': 1811, 'nose': 1203, 'weird': 1963, 'considered': 332, 'enjoy': 538, 'fondest': 689, 'memories': 1104, 'themes': 1791, 'brace': 191, 'glorious': 746, 'addition': 26, 'franchise': 707, 'puts': 1401, 'track': 1839, 'awaken': 106, 'light': 1008, 'redux': 1441, 'saw': 1534, 'theaters': 1789, 'release': 1451, 'brings': 199, 'timely': 1815, 'line': 1017, 'save': 1530, 'painfully': 1269, 'received': 1434, 'rouge': 1506, 'hopes': 834, 'brought': 202, 'sun': 1737, 'prequel': 1369, 'beentheredonethat': 139, 'suffer': 1730, 'hamfisted': 782, 'attempts': 96, 'humor': 849, 'unintentionally': 1892, 'laughably': 972, 'yes': 2013, 'mary': 1076, 'poppins': 1346, 'speak': 1657, 'throne': 1806, 'room': 1502, 'betrayal': 152, 'became': 134, 'clear': 287, 'determined': 435, 'use': 1907, 'swerves': 1757, 'rather': 1417, 'thoughtful': 1803, 'forward': 702, 'thing': 1795, 'dream': 500, 'eyerolling': 604, 'incredulous': 881, 'essentially': 564, 'add': 24, 'minute': 1129, 'videogame': 1922, 'style': 1721, 'quest': 1403, 'goes': 752, 'nowhere': 1210, 'gleeful': 744, 'book': 180, 'burning': 210, 'nazi': 1176, 'yoda': 2016, 'desire': 427, 'fresh': 710, 'tad': 1760, 'onthenose': 1233, 'marvelous': 1075, 'build': 206, 'hopeless': 833, 'figure': 655, 'mind': 1126, 'real': 1424, 'reason': 1428, 'epic': 553, 'showdown': 1602, 'another': 63, 'swerve': 1756, 'critics': 372, 'panned': 1272, 'sloppy': 1631, 'inconsistenciesthat': 878, 'said': 1525, 'give': 738, 'possible': 1355, 'reasons': 1429, 'graded': 764, 'curve': 382, 'ups': 1903, 'downs': 491, 'dismal': 467, 'view': 1923, 'standard': 1680, 'fear': 639, 'given': 739, 'draconian': 492, 'treatment': 1853, 'criticism': 370, 'lately': 968, 'willing': 1973, 'risk': 1494, 'wrath': 1997, 'calling': 218, 'tent': 1780, 'pole': 1338, 'turd': 1868, 'fanboy': 627, 'reaction': 1420, 'poor': 1344, 'job': 925, 'ironic': 912, 'hindsight': 816, 'press': 1373, 'stop': 1702, 'billion': 160, 'dollar': 483, 'juggernaut': 929, 'fun': 717, 'nice': 1190, 'establish': 565, 'position': 1352, 'central': 243, 'final': 661, 'porgs': 1349, 'provide': 1393, 'comic': 307, 'relief': 1454, 'becoming': 137, 'geezers': 727, 'blend': 168, 'newcomers': 1187, 'casual': 237, 'looking': 1030, 'entertainment': 546, 'source': 1653, 'arguments': 84, 'ideas': 856, 'want': 1946, 'keep': 935, 'open': 1234, 'true': 1864, 'take': 1761, 'somewhere': 1646, 'honoring': 829, 'horrendous': 837, 'social': 1639, 'justice': 932, 'nightmare': 1192, 'every': 573, 'white': 1970, 'male': 1064, 'incompetent': 876, 'nefariousevil': 1181, 'iv': 920, 'child': 271, 'become': 135, 'believe': 144, 'horribly': 839, 'stupid': 1720, 'articles': 86, 'haters': 796, 'using': 1910, 'bots': 186, 'scripts': 1552, 'lower': 1044, 'score': 1544, 'stories': 1703, 'dont': 486, 'lord': 1032, 'rings': 1491, 'boring': 182, 'politically': 1340, 'correct': 353, 'nonsense': 1199, 'failed': 612, 'sure': 1741, 'oddities': 1220, 'rebels': 1432, 'reduced': 1440, 'handful': 786, 'heroes': 810, 'trapped': 1848, 'cave': 241, 'place': 1314, 'sets': 1578, 'rest': 1471, 'waited': 1938, 'christmas': 281, 'found': 703, 'lump': 1051, 'coal': 294, 'stocking': 1699, 'walked': 1941, 'feeling': 644, 'positively': 1353, 'giddy': 736, 'disappointed': 462, 'little': 1022, 'depressed': 418, 'subplots': 1724, 'added': 25, 'casino': 234, 'rolling': 1500, 'eyes': 605, 'flashbacks': 677, 'prequels': 1370, 'spots': 1673, 'loved': 1040, 'performance': 1293, 'cant': 223, 'wanted': 1947, 'sacrifice': 1518, 'hero': 809, 'leah': 984, 'death': 400, 'lukes': 1050, 'stars': 1685, 'gone': 755, 'next': 1189, 'installment': 893, 'kilo': 948, 'unanswered': 1883, 'terrific': 1783, 'gave': 726, 'title': 1818, 'otherwise': 1250, 'trashthis': 1850, 'plotthe': 1328, 'coherent': 299, 'anymore': 69, 'treats': 1854, 'audience': 99, 'clubbing': 292, 'overblown': 1259, 'rhetoric': 1481, 'top': 1828, 'villains': 1929, 'repeating': 1460, 'word': 1982, 'timethe': 1817, 'galactic': 722, 'cheat': 263, 'code': 296, 'allowing': 46, 'random': 1414, 'people': 1290, 'incredible': 879, 'miracles': 1132, 'training': 1845, 'whatever': 1966, 'remain': 1455, 'elegant': 518, 'mystery': 1169, 'described': 421, 'tool': 1827, 'sell': 1563, 'toy': 1837, 'sabers': 1517, 'know': 953, 'god': 749, 'nowi': 1211, 'less': 996, 'although': 52, 'po': 1330, 'horriblyluke': 840, 'turmoil': 1869, 'father': 637, 'teacher': 1769, 'anakin': 58, 'obi': 1215, 'wan': 1945, 'check': 265, 'fade': 611, 'background': 116, 'knew': 951, 'selling': 1564, 'micky': 1115, 'mouse': 1153, 'cruises': 376, 'interested': 903, 'telling': 1776, 'insult': 898, 'put': 1400, 'saber': 1516, 'battle': 128, 'blow': 172, 'someone': 1642, 'yell': 2011, 'let': 997, 'puffins': 1394, 'dance': 391, 'around': 85, 'millennium': 1124, 'falcon': 619, 'strains': 1711, 'theme': 1790, 'account': 10, 'rotten': 1505, 'tomatoes': 1823, 'paid': 1267, 'family': 624, 'member': 1103, 'works': 1986, 'production': 1385, 'science': 1542, 'fiction': 652, 'pointless': 1335, 'arcs': 82, 'fantasy': 631, 'beyond': 155, 'bedrock': 138, 'clearly': 288, 'marking': 1072, 'territory': 1784, 'dog': 482, 'urinating': 1905, 'tree': 1855, 'dissolve': 476, 'nostalgia': 1204, 'ot': 1248, 'anything': 71, 'built': 208, 'call': 216, 'lying': 1052, 'base': 123, 'trailers': 1844, 'spot': 1672, 'entire': 549, 'bottom': 187, 'ok': 1225, 'multiple': 1162, 'bother': 185, 'massive': 1078, 'comments': 310, 'developed': 439, 'reviewer': 1477, 'noted': 1206, 'needed': 1179, 'confuse': 327, 'gravity': 766, 'happen': 789, 'negates': 1182, 'crucial': 374, 'minutes': 1130, 'bit': 162, 'spoiling': 1671, 'wife': 1972, 'sons': 1648, 'meh': 1100, 'different': 450, 'perspectives': 1299, 'mehs': 1101, 'probably': 1381, 'except': 581, 'cgi': 246, 'outrageously': 1254, 'recommend': 1436, 'lines': 1018, 'ways': 1958, 'surrounding': 1746, 'nostalgic': 1205, 'trance': 1846, 'allowed': 45, 'forgive': 695, 'obvious': 1217, 'shameless': 1585, 'copying': 351, 'played': 1321, 'safe': 1522, 'dismiss': 468, 'avoid': 104, 'tlj': 1819, 'soil': 1640, 'cherished': 269, 'melancholy': 1102, 'tosses': 1832, 'compelling': 316, 'subtly': 1726, 'introduced': 906, 'replaces': 1462, 'far': 633, 'convoluted': 347, 'alienated': 41, 'nearly': 1177, 'much': 1161, 'difference': 449, 'meant': 1095, 'regards': 1447, 'visually': 1932, 'delivers': 414, 'despite': 428, 'frustrating': 713, 'nature': 1175, 'subplot': 1723, 'entirety': 551, 'instances': 894, 'homage': 826, 'fanatical': 626, 'settings': 1580, 'main': 1058, 'quibble': 1406, 'represents': 1463, 'disneyfication': 470, 'cutesy': 386, 'infuriating': 885, 'plugs': 1329, 'young': 2017, 'viewers': 1925, 'owlpuffin': 1264, 'faces': 608, 'serious': 1573, 'identity': 857, 'crisis': 367, 'simultaneously': 1616, 'supposedly': 1739, 'darker': 394, 'lightcore': 1009, 'gore': 758, 'deeper': 408, 'moral': 1148, 'considerations': 331, 'diluting': 452, 'cheek': 267, 'cuteness': 385, 'brave': 192, 'deliver': 413, 'expect': 591, 'fell': 648, 'damage': 389, 'finale': 662, 'summary': 1734, 'decent': 403, 'standalone': 1679, 'merits': 1108, 'albeit': 39, 'flaws': 680, 'kiddos': 942, 'classic': 286, 'scifi': 1543, 'generational': 731, 'faithful': 618, 'cheated': 264, 'flying': 684, 'air': 37, 'rosefinn': 1504, 'talking': 1767, 'though': 1801, 'planets': 1318, 'away': 109, 'giving': 741, 'editing': 515, 'chopping': 279, 'purple': 1396, 'haired': 779, 'overall': 1258, 'liked': 1014, 'problems': 1383, 'respects': 1470, 'excited': 584, 'quite': 1408, 'moments': 1144, 'becomes': 136, 'weaker': 1960, 'forgiven': 696, 'consider': 330, 'however': 844, 'fast': 635, 'shown': 1604, 'told': 1822, 'tried': 1859, 'rush': 1514, 'ben': 146, 'transition': 1847, 'total': 1833, 'preferred': 1368, 'pass': 1283, 'torch': 1829, 'didnt': 446, 'liea': 1003, 'powers': 1362, 'find': 664, 'strange': 1712, 'powerful': 1360, 'must': 1166, 'survived': 1748, 'exposure': 601, 'always': 53, 'cool': 350, 'actually': 22, 'actual': 21, 'basic': 125, 'points': 1336, 'bloodline': 171, 'spoiled': 1668, 'pretty': 1375, 'imo': 864, 'unprecedented': 1899, 'connection': 329, 'blood': 170, 'darth': 395, 'plagueis': 1315, 'heard': 799, 'getting': 735, 'stripped': 1715, 'sake': 1526, 'dodging': 481, 'predictability': 1366, 'miles': 1120, 'ahead': 36, 'took': 1826, 'try': 1866, 'depth': 419, 'propaganda': 1390, 'woman': 1978, 'means': 1094, 'destroying': 432, 'greatest': 768, 'humanity': 848, 'known': 955, 'thanks': 1786, 'characterizations': 256, 'laid': 960, 'cartoons': 232, 'ay': 114, 'enjoyable': 539, 'roller': 1499, 'coaster': 295, 'starshowever': 1686, 'critically': 369, 'thinking': 1798, 'aware': 108, 'following': 688, 'generous': 732, 'rating': 1418, 'due': 504, 'continuity': 340, 'spoilers': 1670, 'order': 1241, 'sizeable': 1621, 'mop': 1147, 'operations': 1239, 'across': 13, 'crawl': 359, 'lacked': 958, 'second': 1553, 'intercept': 901, 'pincer': 1311, 'move': 1154, 'weak': 1959, 'resistance': 1467, 'freeze': 709, 'laser': 965, 'beam': 131, 'mid': 1116, 'slso': 1635, 'engaging': 535, 'choking': 276, 'acts': 20, 'shot': 1599, 'bridge': 195, 'thereby': 1792, 'saving': 1533, 'ackbar': 12, 'bend': 147, 'blade': 165, 'suffering': 1731, 'mortal': 1149, 'wound': 1995, 'concerned': 324, 'run': 1512, 'finding': 665, 'breaker': 194, 'slow': 1633, 'speed': 1662, 'explaining': 598, 'sensitivity': 1568, 'knights': 952, 'destruction': 434, 'temple': 1778, 'according': 9, 'look': 1028, 'praetorian': 1363, 'guard': 773, 'outfits': 1252, 'explain': 597, 'existence': 589, 'reference': 1443, 'sith': 1620, 'rule': 1511, 'hubris': 845, 'lies': 1004, 'bought': 188, 'considering': 333, 'simultaneous': 1615, 'maul': 1086, 'dooku': 487, 'grevious': 770, 'vader': 1914, 'inquisitors': 889, 'spider': 1665, 'era': 557, 'suggestion': 1732, 'lucas': 1047, 'survive': 1747, 'chopped': 278, 'canon': 222, 'apprentice': 79, 'master': 1080, 'convinced': 346, 'turn': 1870, 'millions': 1125, 'hand': 785, 'inability': 871, 'dark': 393, 'leaning': 985, 'need': 1178, 'murder': 1164, 'sleep': 1628, 'focusing': 686, 'turning': 1872, 'daddy': 388, 'adage': 23, 'fallen': 621, 'play': 1320, 'help': 806, 'resistancerebels': 1468, 'hitch': 819, 'projection': 1388, 'closer': 291, 'straining': 1710, 'range': 1415, 'engineer': 536, 'door': 488, 'crystal': 377, 'foxes': 706, 'hordo': 836, 'general': 729, 'cruisers': 375, 'smash': 1637, 'preserve': 1372, 'unless': 1896, 'devoted': 443, 'idk': 858, 'technically': 1772, 'ass': 90, 'checks': 266, 'riann': 1483, 'skipping': 1623, 'plotted': 1327, 'angrily': 59, 'tells': 1777, 'similarly': 1613, 'flabbergasted': 676, 'slot': 1632, 'coin': 300, 'gun': 776, 'showing': 1603, 'milks': 1123, 'aliens': 42, 'listening': 1019, 'sister': 1619, 'needs': 1180, 'son': 1647, 'helped': 807, 'drive': 501, 'hiding': 813, 'purpose': 1397, 'fox': 705, 'mistakes': 1140, 'allow': 44, 'fester': 650, 'killing': 946, 'loves': 1041, 'interesting': 904, 'storylines': 1707, 'third': 1799, 'viewing': 1926, 'nuances': 1213, 'average': 102, 'seem': 1556, 'disapointed': 460, 'felt': 649, 'kind': 949, 'empty': 529, 'horrible': 838, 'painful': 1268, 'olds': 1228, 'popular': 1348, 'decades': 402, 'punch': 1395, 'stomach': 1701, 'riddance': 1487, 'resets': 1465, 'opens': 1237, 'possibilities': 1354, 'worse': 1989, 'period': 1296, 'zero': 2018, 'level': 1001, 'airs': 38, 'free': 708, 'tv': 1874, 'crap': 357, 'spaceballs': 1655, 'turned': 1871, 'progressive': 1387, 'parody': 1278, 'used': 1908, 'liking': 1016, 'cognitive': 298, 'dissonance': 477, 'predisney': 1367, 'versions': 1918, 'overlook': 1262, 'major': 1060, 'disjointed': 466, 'maybe': 1088, 'favorite': 638, 'saga': 1523, 'height': 801, 'esb': 560, 'risks': 1495, 'watched': 1954, 'screening': 1547, 'children': 273, 'inspiring': 892, 'human': 847, 'flawless': 679, 'everyone': 574, 'mistake': 1139, 'fairytale': 616, 'leave': 988, 'kids': 943, 'mighty': 1119, 'scared': 1538, 'grow': 771, 'leading': 982, 'rebellion': 1431, 'perspective': 1298, 'capital': 225, 'letters': 999, 'cause': 239, 'countless': 355, 'read': 1422, 'novels': 1209, 'appreciate': 77, 'others': 1249, 'riot': 1492, 'petition': 1302, 'remake': 1456, 'normal': 1202, 'guy': 777, 'keeping': 936, 'successful': 1728, 'formula': 699, 'victorious': 1921, 'progress': 1386, 'evil': 576, 'focused': 685, 'offers': 1221, 'entertaining': 545, 'dramatic': 496, 'fails': 613, 'substance': 1725, 'continuing': 339, 'mostly': 1150, 'resequenced': 1464, 'mich': 1114, 'bar': 119, 'miserably': 1133, 'short': 1598, 'mask': 1077, 'sums': 1736, 'pretender': 1374, 'building': 207, 'concepts': 323, 'dissatisfying': 474, 'perfect': 1291, 'directions': 457, 'theater': 1788, 'reexperiencing': 1442, 'awe': 110, 'mishandling': 1134, 'key': 938, 'introduction': 908, 'funny': 719, 'excitement': 585, 'emotional': 524, 'wow': 1996, 'matter': 1084, 'game': 724, 'thrones': 1807, 'origins': 1247, 'nope': 1201, 'kept': 937, 'enthralled': 547, 'slapstick': 1627, 'constant': 334, 'wait': 1937, 'miracle': 1131, 'pace': 1265, 'quick': 1407, 'anxiety': 68, 'reys': 1480, 'easily': 511, 'meditating': 1097, 'meaning': 1092, 'unbelievable': 1884, 'seemingly': 1558, 'sort': 1651, 'unneeded': 1898, 'replaced': 1461, 'taken': 1762, 'enjoyment': 541, 'dreadnought': 499, 'shields': 1589, 'destroy': 429, 'large': 963, 'jumping': 931, 'thru': 1810, 'auto': 100, 'pilot': 1310, 'instruct': 897, 'droid': 503, 'unconscious': 1885, 'void': 1935, 'died': 448, 'kicked': 939, 'target': 1768, 'atats': 93, 'drag': 493, 'body': 175, 'phasma': 1305, 'dragged': 494, 'obviously': 1218, 'accomplished': 8, 'introducing': 907, 'dj': 480, 'assuming': 92, 'bigger': 157, 'guess': 775, 'ray': 1419, 'talented': 1765, 'lightsaber': 1010, 'edge': 514, 'comes': 305, 'litany': 1020, 'expense': 596, 'advancing': 31, 'sagas': 1524, 'existing': 590, 'cast': 236, 'moviegoers': 1157, 'halfwitted': 781, 'present': 1371, 'case': 233, 'hollywood': 824, 'stances': 1677, 'today': 1821, 'gender': 728, 'racial': 1410, 'politics': 1341, 'agnostic': 34, 'tend': 1779, 'past': 1286, 'minor': 1128, 'incidences': 872, 'motivated': 1151, 'screenplay': 1548, 'drastic': 497, 'steps': 1695, 'implement': 867, 'glaring': 743, 'example': 579, 'interaction': 900, 'lauren': 976, 'dern': 420, 'amilyn': 56, 'narrative': 1174, 'patronizing': 1287, 'cliche': 289, 'shied': 1588, 'reboot': 1433, 'live': 1023, 'expectations': 593, 'stronger': 1716, 'avoids': 105, 'delving': 415, 'inconsistencies': 877, 'diversity': 479, 'problem': 1382, 'grab': 762, 'laughs': 973, 'face': 606, 'lore': 1033, 'paper': 1274, 'thin': 1794, 'swearing': 1755, 'jokes': 928, 'shout': 1600, 'marvel': 1073, 'dinsey': 454, 'features': 642, 'poppinsesque': 1347, 'included': 874, 'newer': 1188, 'loyalists': 1046, 'forgiving': 697, 'wave': 1956, 'fannostalgia': 628, 'entry': 552, 'familiar': 623, 'rehash': 1449, 'setup': 1582, 'lack': 957, 'originality': 1245, 'intriguing': 905, 'posed': 1351, 'mysterious': 1168, 'handled': 787, 'careless': 229, 'bucking': 205, 'additionally': 27, 'magnified': 1057, 'tremendously': 1856, 'director': 459, 'borrows': 184, 'heavily': 800, 'charm': 259, 'credits': 364, 'roll': 1498, 'wondering': 1981, 'powerhouse': 1361, 'finally': 663, 'steam': 1692, 'folks': 687, 'spend': 1663, 'creating': 362, 'stands': 1682, 'independent': 882, 'recycled': 1437, 'spectacle': 1660, 'suspension': 1751, 'disbelief': 465, 'deviate': 442, 'drastically': 498, 'established': 566, 'contradict': 342, 'contradictions': 343, 'occur': 1219, 'vacuum': 1913, 'hyperdrive': 853, 'etc': 567, 'disservice': 475, 'irrelevant': 914, 'lead': 980, 'insistence': 891, 'comedic': 303, 'thats': 1787, 'sound': 1652, 'engineering': 537, 'else': 521, 'stiff': 1697, 'form': 698, 'conflict': 325, 'simply': 1614, 'ironically': 913, 'par': 1275, 'return': 1472, 'logic': 1024, 'nonphysical': 1198, 'power': 1359, 'leads': 983, 'ponder': 1342, 'screenwriters': 1549, 'writers': 2001, 'clue': 293, 'couple': 356, 'homages': 827, 'wasteful': 1952, 'noninspiring': 1197, 'upset': 1904, 'cured': 380, 'standing': 1681, 'night': 1191, 'latest': 970, 'opened': 1235, 'writerdirector': 2000, 'wasted': 1951, 'chunks': 283, 'annihilated': 60, 'beloved': 145, 'agonizing': 35, 'jarjar': 922, 'binks': 161, 'feat': 641, 'previously': 1377, 'comfort': 306, 'episodes': 555, 'compare': 314, 'alien': 40, 'milking': 1122, 'maniac': 1067, 'princess': 1378, 'xwing': 2007, 'teen': 1773, 'lost': 1035, 'imagine': 861, 'fears': 640, 'multiply': 1163, 'materialized': 1083, 'legacy': 992, 'unquestioningly': 1900, 'satisfies': 1528, 'objective': 1216, 'acters': 14, 'suck': 1729, 'walt': 1944, 'bye': 214, 'core': 352, 'shit': 1593, 'please': 1323, 'cheesy': 268, 'actor': 18, 'talk': 1766, 'looked': 1029, 'cartoon': 231, 'elements': 519, 'realism': 1425, 'engaged': 534, 'barf': 121, 'childrens': 274, 'pixar': 1313, 'stay': 1691, 'mythology': 1171, 'descriptive': 423, 'culture': 379, 'behavior': 142, 'forced': 691, 'prove': 1392, 'specifically': 1659, 'escape': 561, 'sequence': 1570, 'dysfunctional': 509, 'errrrr': 558, 'erupted': 559, 'laughter': 974, 'including': 875, 'fire': 670, 'mature': 1085, 'man': 1065, 'broken': 200, 'recluse': 1435, 'swimming': 1758, 'vain': 1915, 'regrets': 1448, 'uninteresting': 1893, 'chickened': 270, 'deaths': 401, 'captain': 226, 'villain': 1928, 'five': 674, 'peter': 1301, 'cushing': 383, 'initial': 887, 'bombing': 179, 'duel': 505, 'thirteen': 1800, 'dollars': 484, 'impressive': 870, 'performances': 1294, 'valid': 1916, 'criticisms': 371, 'name': 1173, 'wrote': 2006, 'filmed': 658, 'helplessly': 808, 'logically': 1026, 'sharknado': 1587, 'bmovie': 173, 'explicit': 599, 'happens': 792, 'sometimes': 1644, 'layers': 978, 'freshest': 711, 'vi': 1919, 'starwars': 1689, 'expectation': 592, 'sees': 1561, 'kills': 947, 'sw': 1752, 'raising': 1413, 'characterizes': 257, 'vii': 1927, 'regardless': 1446, 'goers': 751, 'rich': 1484, 'willingly': 1974, 'suspend': 1749, 'achievement': 11, 'variety': 1917, 'encompassing': 530, 'mystical': 1170, 'energy': 533, 'decisions': 405, 'self': 1562, 'indulgent': 883, 'nonsensical': 1200, 'massively': 1079, 'detracts': 437, 'drama': 495, 'happening': 791, 'elsewhere': 522, 'issue': 918, 'lands': 962, 'context': 338, 'unfunny': 1891, 'serves': 1575, 'detract': 436, 'developing': 440, 'hacky': 778, 'dameron': 390, 'arc': 81, 'stereotypical': 1696, 'potentially': 1358, 'feels': 646, 'tack': 1759, 'loveable': 1039, 'sequences': 1571, 'executed': 587, 'lifeless': 1006, 'saves': 1532, 'lengths': 995, 'contonuity': 341, 'tragically': 1843, 'raise': 1412, 'stakes': 1675, 'goosebumps': 757, 'impactful': 865, 'largely': 964, 'caused': 240, 'significant': 1609, 'furrowed': 720, 'brows': 203, 'audible': 98, 'promising': 1389, 'hamill': 783, 'writer': 1999, 'understanding': 1887, 'blatantly': 167, 'spite': 1667, 'attack': 94, 'clones': 290, 'messed': 1111, 'badly': 118, 'involved': 911, 'making': 1063, 'important': 868, 'rough': 1507, 'cut': 384, 'loss': 1034, 'exactly': 578, 'single': 1618, 'usually': 1911, 'unfitting': 1889, 'virtually': 1930, 'neither': 1184, 'mentor': 1106, 'laura': 975, 'playing': 1322, 'fit': 673, 'ignoredreplacedor': 859, 'summed': 1735, 'underwhelmingsweepitundertherug': 1888, 'mean': 1091, 'godspeed': 750, 'forte': 701, 'cgiheavy': 247, 'land': 961, 'island': 916, 'reminiscent': 1458, 'pod': 1331, 'racing': 1411, 'tpm': 1838, 'forget': 694, 'reality': 1426, 'hits': 820, 'precedes': 1365, 'embarrassment': 523, 'changes': 252, 'del': 412, 'toro': 1831, 'phase': 1304, 'tech': 1771, 'pods': 1332, 'saved': 1531, 'casinoalien': 235, 'horse': 841, 'worthwhile': 1992, 'exciting': 586, 'heist': 802, 'type': 1878, 'shut': 1606, 'tracker': 1840, 'later': 969, 'charter': 260, 'unique': 1894, 'sketchy': 1622, 'prison': 1380, 'infiltrate': 884, 'betray': 151, 'logical': 1025, 'black': 164, 'hole': 822, 'touching': 1836, 'wall': 1942, 'accomplish': 7, 'touch': 1835, 'luck': 1048, 'meets': 1099, 'swamp': 1753, 'struggle': 1717, 'explodes': 600, 'waking': 1940, 'saying': 1536, 'yeah': 2008, 'stole': 1700, 'bolted': 176, 'break': 193, 'appears': 76, 'choppy': 280, 'friends': 712, 'danger': 392, 'dying': 507, 'mission': 1137, 'saddle': 1521, 'proclaim': 1384, 'gotcha': 760, 'abandons': 0, 'leaves': 989, 'avid': 103, 'funk': 718, 'held': 803, 'notions': 1208, 'mocked': 1142, 'barrage': 122, 'designed': 426, 'commercial': 311, 'stand': 1678, 'uphill': 1902, 'overcome': 1260, 'awesome': 111, 'bastardized': 127, 'likability': 1012, 'skywalkers': 1625, 'based': 124, 'assassination': 91, 'ended': 532, 'wonderful': 1980, 'levels': 1002, 'surprisinig': 1745, 'beautiful': 132, 'honors': 830, 'schematic': 1541, 'head': 798, 'challenges': 249, 'viewer': 1924, 'doors': 489, 'evolved': 577, 'stages': 1674, 'hating': 797, 'excepting': 582, 'within': 1975, 'days': 398, 'philosophy': 1306, 'deconstruction': 406, 'moving': 1160, 'slap': 1626, 'forever': 693, 'passed': 1284, 'describes': 422, 'perfectly': 1292, 'heroic': 811, 'suicide': 1733, 'missteps': 1138, 'deserves': 425, 'disturbance': 478, 'somewhat': 1645, 'fighting': 654, 'faceless': 607, 'telekinesis': 1774, 'outs': 1256, 'mediocre': 1096, 'abomination': 2, 'called': 217, 'voice': 1934, 'cookie': 348, 'cutter': 387, 'joke': 927, 'intelligence': 899, 'overused': 1263, 'christopher': 282, 'nolan': 1196, 'pick': 1307, 'file': 656, 'avengers': 101, 'pirates': 1312, 'bs': 204, 'deserve': 424, 'thrilled': 1804, 'outing': 1253, 'barely': 120, 'changed': 251, 'originals': 1246, 'shone': 1596, 'chapter': 253, 'yellow': 2012, 'attempt': 95, 'success': 1727, 'setting': 1579, 'aside': 88, 'worlds': 1988, 'creatures': 363, 'glitter': 745, 'critters': 373, 'racegoatlynxes': 1409, 'refreshing': 1444, 'swathe': 1754, 'women': 1979, 'colour': 301, 'failure': 614, 'choices': 275, 'trust': 1865, 'betrayed': 153, 'disappoint': 461, 'legends': 993, 'illusion': 860, 'glad': 742, 'stem': 1693, 'dynasty': 508, 'ordinary': 1242, 'rejected': 1450, 'girl': 737, 'resist': 1466, 'empires': 528, 'burn': 209, 'formulaic': 700, 'warsbynumbers': 1949, 'lovingly': 1043, 'growing': 772, 'happier': 793, 'contain': 336, 'directed': 455, 'begins': 141, 'straight': 1709, 'immediately': 863, 'apparent': 73, 'vision': 1931, 'ambitious': 55, 'settles': 1581, 'fantheories': 632, 'strangled': 1713, 'foremost': 692, 'actionpacked': 17, 'appearing': 75, 'briefly': 197, 'rugged': 1508, 'isolated': 917, 'trio': 1861, 'maintenance': 1059, 'worker': 1985, 'vice': 1920, 'officer': 1222, 'codebreaker': 297, 'thief': 1793, 'shining': 1590, 'moment': 1143, 'particular': 1280, 'slicing': 1629, 'sacrificing': 1519, 'escaping': 562, 'command': 309, 'lightspeed': 1011, 'silencing': 1610, 'stare': 1684, 'late': 967, 'carrie': 230, 'fisher': 672, 'organa': 1243, 'highlights': 815, 'department': 416, 'spectacular': 1661, 'teamup': 1770, 'panning': 1273, 'planting': 1319, 'user': 1909, 'apprehensive': 78, 'allegiance': 43, 'sides': 1608, 'reveal': 1474, 'surprise': 1742, 'expecting': 595, 'grandiose': 765, 'dissatisfied': 473, 'admittedly': 30, 'revelations': 1475, 'events': 570, 'irritating': 915, 'conflicting': 326, 'supreme': 1740, 'leader': 981, 'redherring': 1438, 'shocking': 1595, 'unwarranted': 1901, 'painted': 1270, 'ultimate': 1880, 'similar': 1612, 'emperor': 526, 'palpatine': 1271, 'spanning': 1656, 'led': 990, 'suspenseful': 1750, 'thrilling': 1805, 'immediate': 862, 'kamikaze': 933, 'culminated': 378, 'doubt': 490, 'nitpicky': 1193, 'include': 873, 'opportunity': 1240, 'boba': 174, 'fett': 651, 'current': 381, 'ensuing': 544, 'romance': 1501, 'maz': 1089, 'kanata': 934, 'met': 1112, 'brief': 196, 'captured': 227, 'farfetched': 634, 'initially': 888, 'knowing': 954, 'sensitive': 1567, 'numerous': 1214, 'lowest': 1045, 'canto': 224, 'bight': 159, 'eventuated': 571, 'relevant': 1453, 'qualified': 1402, 'benicio': 148, 'weaknesses': 1961, 'aspects': 89, 'equal': 556, 'behind': 143, 'negativity': 1183, 'complaints': 320, 'fair': 615, 'surprises': 1743, 'step': 1694, 'yesis': 2014, 'hell': 804, 'noi': 1195, 'articulate': 87, 'likely': 1015, 'hate': 795, 'fine': 666, 'choosing': 277, 'commit': 312, 'service': 1576, 'whiny': 1969, 'reactionary': 1421, 'emotions': 525, 'portrayal': 1350, 'bounds': 189, 'annoyed': 61, 'echo': 513, 'interest': 902, 'poops': 1343, 'question': 1404, 'invoked': 910, 'helmet': 805, 'rid': 1486, 'scar': 1537, 'answer': 64, 'passing': 1285, 'meaningless': 1093, 'cameofinn': 220, 'invent': 909, 'send': 1565, 'spin': 1666, 'wheels': 1967, 'busy': 211, 'hux': 852, 'trivialize': 1862, 'competition': 318, 'toady': 1820, 'marketing': 1071, 'mcguffin': 1090, 'hyperspace': 854, 'imperial': 866, 'fleets': 682, 'torn': 1830, 'insides': 890, 'kidding': 941, 'totally': 1834, 'dimensional': 453, 'miniature': 1127, 'difficulty': 451, 'feet': 647, 'metal': 1113, 'typical': 1879, 'constrained': 335, 'tradition': 1841, 'prior': 1379, 'ongoing': 1232, 'exist': 588, 'boy': 190, 'grabbing': 763, 'broom': 201, 'dumbfounded': 506, 'unable': 1882, 'ensemble': 543, 'instinct': 896, 'reduce': 1439, 'extended': 602, 'tropes': 1863, 'eliminate': 520, 'exception': 583, 'traditionally': 1842, 'storybuilding': 1705, 'cookiecutter': 349, 'blockbuster': 169}\n"
     ]
    }
   ],
   "source": [
    "print(good_vect)"
   ]
  },
  {
   "cell_type": "code",
   "execution_count": 41,
   "metadata": {},
   "outputs": [],
   "source": [
    "# Summarize"
   ]
  },
  {
   "cell_type": "code",
   "execution_count": 47,
   "metadata": {},
   "outputs": [
    {
     "name": "stdout",
     "output_type": "stream",
     "text": [
      "2019\n"
     ]
    }
   ],
   "source": [
    "print(len(good_vect))"
   ]
  },
  {
   "cell_type": "code",
   "execution_count": 46,
   "metadata": {},
   "outputs": [],
   "source": [
    "good_vector = vectorizer.transform(good_vect)"
   ]
  },
  {
   "cell_type": "code",
   "execution_count": 47,
   "metadata": {},
   "outputs": [
    {
     "data": {
      "text/plain": [
       "(2019, 2019)"
      ]
     },
     "execution_count": 47,
     "metadata": {},
     "output_type": "execute_result"
    }
   ],
   "source": [
    "good_vector.shape"
   ]
  },
  {
   "cell_type": "code",
   "execution_count": 48,
   "metadata": {},
   "outputs": [],
   "source": [
    "test_review = \"t's an unpopular opinion, but it's changes and differentness are what makes the movie so good. The plot has significant issues and leaves too many unanswered questions that are likely never to be answered. But the film is beautifully shot, and full of exciting spectacle all framed within the intimacy and danger of a submarine action film. It's use of the Force and visuals are wonderfully weird. I went to TLJ to have a good time and it delivered that and left me thinking about all the gorgeous things that can be done with Star Wars in the future when we are done mining what we can out of it's past.\""
   ]
  },
  {
   "cell_type": "code",
   "execution_count": 60,
   "metadata": {},
   "outputs": [
    {
     "data": {
      "text/plain": [
       "array([[ 0.,  0.,  0., ...,  0.,  0.,  0.],\n",
       "       [ 0.,  0.,  0., ...,  0.,  0.,  0.],\n",
       "       [ 0.,  0.,  0., ...,  0.,  0.,  0.],\n",
       "       ..., \n",
       "       [ 0.,  0.,  0., ...,  0.,  0.,  0.],\n",
       "       [ 0.,  0.,  0., ...,  0.,  0.,  0.],\n",
       "       [ 0.,  0.,  0., ...,  0.,  0.,  0.]])"
      ]
     },
     "execution_count": 60,
     "metadata": {},
     "output_type": "execute_result"
    }
   ],
   "source": [
    "good_vector.toarray()"
   ]
  },
  {
   "cell_type": "code",
   "execution_count": 49,
   "metadata": {},
   "outputs": [
    {
     "name": "stdout",
     "output_type": "stream",
     "text": [
      "  (0, 321)\t1.0\n",
      "  (1, 464)\t1.0\n",
      "  (2, 1300)\t1.0\n",
      "  (3, 410)\t1.0\n",
      "  (4, 1738)\t1.0\n",
      "  (5, 1110)\t1.0\n",
      "  (6, 1683)\t1.0\n",
      "  (7, 1948)\t1.0\n",
      "  (8, 1535)\t1.0\n",
      "  (9, 1572)\t1.0\n",
      "  (10, 930)\t1.0\n",
      "  (11, 1586)\t1.0\n",
      "  (12, 80)\t1.0\n",
      "  (13, 1121)\t1.0\n",
      "  (14, 1654)\t1.0\n",
      "  (15, 1943)\t1.0\n",
      "  (16, 1950)\t1.0\n",
      "  (17, 886)\t1.0\n",
      "  (18, 575)\t1.0\n",
      "  (19, 756)\t1.0\n",
      "  (20, 657)\t1.0\n",
      "  (21, 2015)\t1.0\n",
      "  (22, 734)\t1.0\n",
      "  (23, 2004)\t1.0\n",
      "  (24, 1555)\t1.0\n",
      "  :\t:\n",
      "  (1994, 451)\t1.0\n",
      "  (1995, 647)\t1.0\n",
      "  (1996, 1113)\t1.0\n",
      "  (1997, 1879)\t1.0\n",
      "  (1998, 335)\t1.0\n",
      "  (1999, 1841)\t1.0\n",
      "  (2000, 1379)\t1.0\n",
      "  (2001, 1232)\t1.0\n",
      "  (2002, 588)\t1.0\n",
      "  (2003, 190)\t1.0\n",
      "  (2004, 763)\t1.0\n",
      "  (2005, 201)\t1.0\n",
      "  (2006, 506)\t1.0\n",
      "  (2007, 1882)\t1.0\n",
      "  (2008, 543)\t1.0\n",
      "  (2009, 896)\t1.0\n",
      "  (2010, 1439)\t1.0\n",
      "  (2011, 602)\t1.0\n",
      "  (2012, 1863)\t1.0\n",
      "  (2013, 520)\t1.0\n",
      "  (2014, 583)\t1.0\n",
      "  (2015, 1842)\t1.0\n",
      "  (2016, 1705)\t1.0\n",
      "  (2017, 349)\t1.0\n",
      "  (2018, 169)\t1.0\n"
     ]
    }
   ],
   "source": [
    "print(good_vector)"
   ]
  },
  {
   "cell_type": "code",
   "execution_count": 50,
   "metadata": {},
   "outputs": [],
   "source": [
    "clf = MultinomialNB()"
   ]
  },
  {
   "cell_type": "code",
   "execution_count": 62,
   "metadata": {},
   "outputs": [
    {
     "ename": "AttributeError",
     "evalue": "'dict' object has no attribute 'toarray'",
     "output_type": "error",
     "traceback": [
      "\u001b[1;31m---------------------------------------------------------------------------\u001b[0m",
      "\u001b[1;31mAttributeError\u001b[0m                            Traceback (most recent call last)",
      "\u001b[1;32m<ipython-input-62-d6b5e95b0482>\u001b[0m in \u001b[0;36m<module>\u001b[1;34m()\u001b[0m\n\u001b[1;32m----> 1\u001b[1;33m \u001b[0mclf\u001b[0m\u001b[1;33m.\u001b[0m\u001b[0mfit\u001b[0m\u001b[1;33m(\u001b[0m\u001b[0mgood_vector\u001b[0m\u001b[1;33m,\u001b[0m \u001b[0mgood_vect\u001b[0m\u001b[1;33m.\u001b[0m\u001b[0mtoarray\u001b[0m\u001b[1;33m(\u001b[0m\u001b[1;33m)\u001b[0m\u001b[1;33m)\u001b[0m\u001b[1;33m\u001b[0m\u001b[0m\n\u001b[0m",
      "\u001b[1;31mAttributeError\u001b[0m: 'dict' object has no attribute 'toarray'"
     ]
    }
   ],
   "source": [
    "clf.fit(good_vector, ))"
   ]
  },
  {
   "cell_type": "code",
   "execution_count": 59,
   "metadata": {},
   "outputs": [
    {
     "ename": "TypeError",
     "evalue": "object of type 'int' has no len()",
     "output_type": "error",
     "traceback": [
      "\u001b[1;31m---------------------------------------------------------------------------\u001b[0m",
      "\u001b[1;31mTypeError\u001b[0m                                 Traceback (most recent call last)",
      "\u001b[1;32m<ipython-input-59-713e23c1f856>\u001b[0m in \u001b[0;36m<module>\u001b[1;34m()\u001b[0m\n\u001b[1;32m----> 1\u001b[1;33m \u001b[0mlen\u001b[0m\u001b[1;33m(\u001b[0m\u001b[0mgood_vector\u001b[0m\u001b[1;33m.\u001b[0m\u001b[0mshape\u001b[0m\u001b[1;33m[\u001b[0m\u001b[1;36m0\u001b[0m\u001b[1;33m]\u001b[0m\u001b[1;33m)\u001b[0m\u001b[1;33m\u001b[0m\u001b[0m\n\u001b[0m",
      "\u001b[1;31mTypeError\u001b[0m: object of type 'int' has no len()"
     ]
    }
   ],
   "source": []
  },
  {
   "cell_type": "code",
   "execution_count": null,
   "metadata": {},
   "outputs": [],
   "source": []
  }
 ],
 "metadata": {
  "kernelspec": {
   "display_name": "Python 3",
   "language": "python",
   "name": "python3"
  },
  "language_info": {
   "codemirror_mode": {
    "name": "ipython",
    "version": 3
   },
   "file_extension": ".py",
   "mimetype": "text/x-python",
   "name": "python",
   "nbconvert_exporter": "python",
   "pygments_lexer": "ipython3",
   "version": "3.6.3"
  }
 },
 "nbformat": 4,
 "nbformat_minor": 2
}
